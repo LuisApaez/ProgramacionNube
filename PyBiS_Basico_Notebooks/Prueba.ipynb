{
 "cells": [
  {
   "cell_type": "markdown",
   "id": "038ba05c",
   "metadata": {},
   "source": [
    "Definimos un archivo .py para almacenar nuestra propia librería, de donde ahí mismo subiremos la clase de nuestro proyecto. . . ¿qué hace el proyecto?\n",
    "\n",
    "1. Generar ventas de las papelerías en un día dado ---> dataframe\n",
    "2. Queremos subir ese df a nuestra base de datos ---> inicializar_bbdd, subir_df\n",
    "\n",
    "* inicializar_bbdd: se crea en automatico la base y la tabla en SQL, y ademas se sube por primera vez\n",
    "el dataframe generado\n",
    "* subir_df: subir el dataframe generado.\n",
    "\n",
    "¿Qué estamos tratando de simular?\n",
    "\n",
    "1. Cómo montar un flujo de datos: insumo ---> bbdd ---> análisis ---> Power BI\n",
    "2. Automatizar procesos: librería\n",
    "3. Nosotros como no nos dan info diaria o real, simulamos ese primer paso creando los datos de manera aleatoria"
   ]
  },
  {
   "cell_type": "code",
   "execution_count": null,
   "id": "14ba378f",
   "metadata": {},
   "outputs": [],
   "source": [
    "# 1. Definir la base de datos y la tabla\n",
    "from pym import tools\n",
    "\n",
    "################################################################\n",
    "# Creamos un primer dataframe con la info del 1 de enero\n",
    "df_1 = tools.generar_df_ventas('2025-01-01', 1000)\n",
    "# Inicializamos nuestra infrastructura de base de datos \n",
    "# subiendo la info del primero de Enero\n",
    "tools.inicializar_bbdd(df_1)\n",
    "################################################################\n",
    "\n",
    "# Subimos la info del 2 de enero\n",
    "tools.subir_df(tools.generar_df_ventas('2025-01-02', 1000))"
   ]
  },
  {
   "cell_type": "code",
   "execution_count": 5,
   "id": "f5f4a387",
   "metadata": {},
   "outputs": [
    {
     "name": "stdout",
     "output_type": "stream",
     "text": [
      "Dataframe subido correctamente a la base de datos.\n"
     ]
    }
   ],
   "source": [
    "tools.subir_df(tools.generar_df_ventas('2025-01-03', 1000))"
   ]
  },
  {
   "cell_type": "code",
   "execution_count": 6,
   "id": "0df42567",
   "metadata": {},
   "outputs": [
    {
     "name": "stdout",
     "output_type": "stream",
     "text": [
      "Dataframe subido correctamente a la base de datos.\n"
     ]
    }
   ],
   "source": [
    "tools.subir_df(tools.generar_df_ventas('2025-01-04', 1000))"
   ]
  },
  {
   "cell_type": "code",
   "execution_count": 5,
   "id": "6eb037c7",
   "metadata": {},
   "outputs": [
    {
     "data": {
      "text/plain": [
       "datetime.datetime(2025, 5, 27, 0, 0)"
      ]
     },
     "execution_count": 5,
     "metadata": {},
     "output_type": "execute_result"
    }
   ],
   "source": [
    "import datetime as dt\n",
    "\n",
    "# p: string --> objeto fecha\n",
    "# f: objeto fecha --> string\n",
    "fecha_dt = dt.datetime.strptime(\"2025-05-27\", '%Y-%m-%d')\n",
    "fecha_dt"
   ]
  },
  {
   "cell_type": "code",
   "execution_count": 6,
   "id": "e4350b4d",
   "metadata": {},
   "outputs": [
    {
     "data": {
      "text/plain": [
       "'2025-05-27'"
      ]
     },
     "execution_count": 6,
     "metadata": {},
     "output_type": "execute_result"
    }
   ],
   "source": [
    "dt.datetime.strftime(fecha_dt, '%Y-%m-%d')"
   ]
  },
  {
   "cell_type": "code",
   "execution_count": null,
   "id": "5187c640",
   "metadata": {},
   "outputs": [
    {
     "data": {
      "text/plain": [
       "['2025-01-05',\n",
       " '2025-01-06',\n",
       " '2025-01-07',\n",
       " '2025-01-08',\n",
       " '2025-01-09',\n",
       " '2025-01-10',\n",
       " '2025-01-11',\n",
       " '2025-01-12',\n",
       " '2025-01-13',\n",
       " '2025-01-14',\n",
       " '2025-01-15',\n",
       " '2025-01-16',\n",
       " '2025-01-17',\n",
       " '2025-01-18',\n",
       " '2025-01-19',\n",
       " '2025-01-20',\n",
       " '2025-01-21',\n",
       " '2025-01-22',\n",
       " '2025-01-23',\n",
       " '2025-01-24',\n",
       " '2025-01-25',\n",
       " '2025-01-26',\n",
       " '2025-01-27',\n",
       " '2025-01-28',\n",
       " '2025-01-29',\n",
       " '2025-01-30',\n",
       " '2025-01-31']"
      ]
     },
     "execution_count": 15,
     "metadata": {},
     "output_type": "execute_result"
    }
   ],
   "source": [
    "import pandas as pd\n",
    "import datetime as dt\n",
    "\n",
    "# \"2025-05-07\" string \n",
    "# datetime/timestamp --> Objeto Fecha\n",
    "\n",
    "# Generamos un rango de fechas y lo convertimos a lista\n",
    "lista_fechas = pd.date_range(start='2025-01-05', end='2025-01-31').to_list()\n",
    "\n",
    "# esa lista de objetos fecha, los convertimos a strings via un dataframe\n",
    "df_fechas = pd.DataFrame(lista_fechas)\n",
    "\n",
    "# .astytpe() te convierte una columna de pandas al tipo de dato que le indiques\n",
    "# str() convierte cosas a strings\n",
    "# list() convierte cosas a listas\n",
    "lista_fechas_strings = list(df_fechas[0].astype(str))\n",
    "\n",
    "lista_fechas_strings"
   ]
  },
  {
   "cell_type": "code",
   "execution_count": 18,
   "id": "c9ad951d",
   "metadata": {},
   "outputs": [
    {
     "name": "stdout",
     "output_type": "stream",
     "text": [
      "Dataframe subido correctamente a la base de datos.\n",
      "Dataframe subido correctamente a la base de datos.\n",
      "Dataframe subido correctamente a la base de datos.\n",
      "Dataframe subido correctamente a la base de datos.\n",
      "Dataframe subido correctamente a la base de datos.\n",
      "Dataframe subido correctamente a la base de datos.\n",
      "Dataframe subido correctamente a la base de datos.\n",
      "Dataframe subido correctamente a la base de datos.\n",
      "Dataframe subido correctamente a la base de datos.\n",
      "Dataframe subido correctamente a la base de datos.\n",
      "Dataframe subido correctamente a la base de datos.\n",
      "Dataframe subido correctamente a la base de datos.\n",
      "Dataframe subido correctamente a la base de datos.\n",
      "Dataframe subido correctamente a la base de datos.\n",
      "Dataframe subido correctamente a la base de datos.\n",
      "Dataframe subido correctamente a la base de datos.\n",
      "Dataframe subido correctamente a la base de datos.\n",
      "Dataframe subido correctamente a la base de datos.\n",
      "Dataframe subido correctamente a la base de datos.\n",
      "Dataframe subido correctamente a la base de datos.\n",
      "Dataframe subido correctamente a la base de datos.\n",
      "Dataframe subido correctamente a la base de datos.\n",
      "Dataframe subido correctamente a la base de datos.\n",
      "Dataframe subido correctamente a la base de datos.\n",
      "Dataframe subido correctamente a la base de datos.\n",
      "Dataframe subido correctamente a la base de datos.\n",
      "Dataframe subido correctamente a la base de datos.\n"
     ]
    }
   ],
   "source": [
    "for fecha in lista_fechas_strings:\n",
    "    tools.subir_df(tools.generar_df_ventas(fecha, 1000))"
   ]
  },
  {
   "cell_type": "code",
   "execution_count": 19,
   "id": "de56da55",
   "metadata": {},
   "outputs": [
    {
     "data": {
      "text/html": [
       "<div>\n",
       "<style scoped>\n",
       "    .dataframe tbody tr th:only-of-type {\n",
       "        vertical-align: middle;\n",
       "    }\n",
       "\n",
       "    .dataframe tbody tr th {\n",
       "        vertical-align: top;\n",
       "    }\n",
       "\n",
       "    .dataframe thead th {\n",
       "        text-align: right;\n",
       "    }\n",
       "</style>\n",
       "<table border=\"1\" class=\"dataframe\">\n",
       "  <thead>\n",
       "    <tr style=\"text-align: right;\">\n",
       "      <th></th>\n",
       "      <th>Fecha</th>\n",
       "      <th>Producto</th>\n",
       "      <th>Clave</th>\n",
       "      <th>Cantidad</th>\n",
       "      <th>Precio</th>\n",
       "      <th>Total</th>\n",
       "      <th>Sucursal</th>\n",
       "    </tr>\n",
       "  </thead>\n",
       "  <tbody>\n",
       "    <tr>\n",
       "      <th>0</th>\n",
       "      <td>2025-01-01</td>\n",
       "      <td>Pegamento</td>\n",
       "      <td>ONH-333</td>\n",
       "      <td>21</td>\n",
       "      <td>2654.66</td>\n",
       "      <td>55747.86</td>\n",
       "      <td>Polanco</td>\n",
       "    </tr>\n",
       "    <tr>\n",
       "      <th>1</th>\n",
       "      <td>2025-01-01</td>\n",
       "      <td>Pegamento</td>\n",
       "      <td>SFB-293</td>\n",
       "      <td>27</td>\n",
       "      <td>327.31</td>\n",
       "      <td>8837.37</td>\n",
       "      <td>Centro</td>\n",
       "    </tr>\n",
       "    <tr>\n",
       "      <th>2</th>\n",
       "      <td>2025-01-01</td>\n",
       "      <td>Cargadores</td>\n",
       "      <td>ZCY-891</td>\n",
       "      <td>21</td>\n",
       "      <td>724.51</td>\n",
       "      <td>15214.71</td>\n",
       "      <td>Zócalo</td>\n",
       "    </tr>\n",
       "    <tr>\n",
       "      <th>3</th>\n",
       "      <td>2025-01-01</td>\n",
       "      <td>Mouse</td>\n",
       "      <td>ZLJ-864</td>\n",
       "      <td>41</td>\n",
       "      <td>168.97</td>\n",
       "      <td>6927.77</td>\n",
       "      <td>Narvarte</td>\n",
       "    </tr>\n",
       "    <tr>\n",
       "      <th>4</th>\n",
       "      <td>2025-01-01</td>\n",
       "      <td>Bolsas</td>\n",
       "      <td>RJZ-779</td>\n",
       "      <td>15</td>\n",
       "      <td>531.91</td>\n",
       "      <td>7978.65</td>\n",
       "      <td>Santa Fé</td>\n",
       "    </tr>\n",
       "    <tr>\n",
       "      <th>...</th>\n",
       "      <td>...</td>\n",
       "      <td>...</td>\n",
       "      <td>...</td>\n",
       "      <td>...</td>\n",
       "      <td>...</td>\n",
       "      <td>...</td>\n",
       "      <td>...</td>\n",
       "    </tr>\n",
       "    <tr>\n",
       "      <th>30995</th>\n",
       "      <td>2025-01-31</td>\n",
       "      <td>Bolsas</td>\n",
       "      <td>QIX-586</td>\n",
       "      <td>38</td>\n",
       "      <td>2995.45</td>\n",
       "      <td>113827.10</td>\n",
       "      <td>CU</td>\n",
       "    </tr>\n",
       "    <tr>\n",
       "      <th>30996</th>\n",
       "      <td>2025-01-31</td>\n",
       "      <td>Borradores</td>\n",
       "      <td>CZI-972</td>\n",
       "      <td>14</td>\n",
       "      <td>347.89</td>\n",
       "      <td>4870.46</td>\n",
       "      <td>Narvarte</td>\n",
       "    </tr>\n",
       "    <tr>\n",
       "      <th>30997</th>\n",
       "      <td>2025-01-31</td>\n",
       "      <td>Plumones</td>\n",
       "      <td>FAG-854</td>\n",
       "      <td>25</td>\n",
       "      <td>1902.39</td>\n",
       "      <td>47559.75</td>\n",
       "      <td>Narvarte</td>\n",
       "    </tr>\n",
       "    <tr>\n",
       "      <th>30998</th>\n",
       "      <td>2025-01-31</td>\n",
       "      <td>Lápices</td>\n",
       "      <td>LCD-274</td>\n",
       "      <td>48</td>\n",
       "      <td>3899.11</td>\n",
       "      <td>187157.28</td>\n",
       "      <td>Zócalo</td>\n",
       "    </tr>\n",
       "    <tr>\n",
       "      <th>30999</th>\n",
       "      <td>2025-01-31</td>\n",
       "      <td>Bolsas</td>\n",
       "      <td>LXT-223</td>\n",
       "      <td>17</td>\n",
       "      <td>4224.07</td>\n",
       "      <td>71809.19</td>\n",
       "      <td>Xochimilco</td>\n",
       "    </tr>\n",
       "  </tbody>\n",
       "</table>\n",
       "<p>31000 rows × 7 columns</p>\n",
       "</div>"
      ],
      "text/plain": [
       "            Fecha    Producto    Clave  Cantidad   Precio      Total  \\\n",
       "0      2025-01-01   Pegamento  ONH-333        21  2654.66   55747.86   \n",
       "1      2025-01-01   Pegamento  SFB-293        27   327.31    8837.37   \n",
       "2      2025-01-01  Cargadores  ZCY-891        21   724.51   15214.71   \n",
       "3      2025-01-01       Mouse  ZLJ-864        41   168.97    6927.77   \n",
       "4      2025-01-01      Bolsas  RJZ-779        15   531.91    7978.65   \n",
       "...           ...         ...      ...       ...      ...        ...   \n",
       "30995  2025-01-31      Bolsas  QIX-586        38  2995.45  113827.10   \n",
       "30996  2025-01-31  Borradores  CZI-972        14   347.89    4870.46   \n",
       "30997  2025-01-31    Plumones  FAG-854        25  1902.39   47559.75   \n",
       "30998  2025-01-31     Lápices  LCD-274        48  3899.11  187157.28   \n",
       "30999  2025-01-31      Bolsas  LXT-223        17  4224.07   71809.19   \n",
       "\n",
       "         Sucursal  \n",
       "0         Polanco  \n",
       "1          Centro  \n",
       "2          Zócalo  \n",
       "3        Narvarte  \n",
       "4        Santa Fé  \n",
       "...           ...  \n",
       "30995          CU  \n",
       "30996    Narvarte  \n",
       "30997    Narvarte  \n",
       "30998      Zócalo  \n",
       "30999  Xochimilco  \n",
       "\n",
       "[31000 rows x 7 columns]"
      ]
     },
     "execution_count": 19,
     "metadata": {},
     "output_type": "execute_result"
    }
   ],
   "source": [
    "tools.consultar_bbdd(\"SELECT * FROM ventas\")"
   ]
  },
  {
   "cell_type": "code",
   "execution_count": null,
   "id": "ced1c379",
   "metadata": {},
   "outputs": [
    {
     "data": {
      "text/plain": [
       "2"
      ]
     },
     "execution_count": 1,
     "metadata": {},
     "output_type": "execute_result"
    }
   ],
   "source": [
    "# Definimos una funcion que sume dos numeros\n",
    "def sumar() "
   ]
  }
 ],
 "metadata": {
  "kernelspec": {
   "display_name": "Python 3",
   "language": "python",
   "name": "python3"
  },
  "language_info": {
   "codemirror_mode": {
    "name": "ipython",
    "version": 3
   },
   "file_extension": ".py",
   "mimetype": "text/x-python",
   "name": "python",
   "nbconvert_exporter": "python",
   "pygments_lexer": "ipython3",
   "version": "3.12.1"
  }
 },
 "nbformat": 4,
 "nbformat_minor": 5
}
