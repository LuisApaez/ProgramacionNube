{
 "cells": [
  {
   "cell_type": "markdown",
   "id": "ca60688c",
   "metadata": {},
   "source": [
    "# 💥 Primeros pasos con ``Python`` 💥\n",
    "\n",
    "|| <a style=\"background-color: #1bf8ff; color: #000000; border: none; padding: 10px 15px; border-radius: 5px;\">17 de Mayo del 2025</a> ||\n",
    "<a style=\"background-color: #1bf8ff; color: #000000; border: none; padding: 10px 15px; border-radius: 5px;\">Clase 2</a> ||\n",
    "<a style=\"background-color: #1bf8ff; color: #000000; border: none; padding: 10px 15px; border-radius: 5px;\">Cursos PyM</a> ||\n",
    "<a style=\"background-color: #1bf8ff; color: #000000; border: none; padding: 10px 15px; border-radius: 5px;\">Luis Fernando Apáez Álvarez</a> ||\n",
    "\n",
    "## 🪗Acordeón de clase🪗\n",
    "\n",
    "---\n"
   ]
  },
  {
   "cell_type": "markdown",
   "id": "2dc55344",
   "metadata": {},
   "source": [
    "Comenzamos con la clase dos realizando el primer ejercicio para participación:\n",
    "\n",
    "### 📢 Sistema de puntos 📢\n",
    "\n",
    "Resuelve el siguiente ejercicio (tiempo aproximado: 5 min):\n",
    "\n",
    "```\n",
    "Crea variables para representar a un alumno:\n",
    "\n",
    "nombre\n",
    "\n",
    "edad\n",
    "\n",
    "promedio\n",
    "\n",
    "si está inscrito (booleano)\n",
    "\n",
    "Manda a imprmir las variables.\n",
    "```\n",
    "\n",
    "Tómale foto o captura a tu código y mándalo al grupo de whats app 🥸\n",
    "\n",
    "---\n",
    "\n",
    "Recordamos que en la clase pasada logramos imprimir un ticket de venta utilizando el código:"
   ]
  },
  {
   "cell_type": "code",
   "execution_count": 14,
   "id": "8718450e",
   "metadata": {},
   "outputs": [
    {
     "name": "stdout",
     "output_type": "stream",
     "text": [
      "***********************\n",
      "Fecha venta: 2025-05-15\n",
      "Cajero: Luis Apáez\n",
      "***********************\n",
      "Producto: Libreta\n",
      "Clave: AAA-123\n",
      "Cantidad vendida: 1\n",
      "Precio: $ 100\n",
      "Total = $ 100\n",
      "***********************\n",
      "Sucursal: Xochimilco\n"
     ]
    }
   ],
   "source": [
    "# Zona de definicion de variables\n",
    "fecha = \"2025-05-15\"\n",
    "cajero = \"Luis Apáez\"\n",
    "producto = 'Libreta'\n",
    "clave = 'AAA-123'\n",
    "cantidad = 1\n",
    "precio = 100\n",
    "total = precio * cantidad\n",
    "sucursal = \"Xochimilco\"\n",
    "\n",
    "########################################################\n",
    "########################################################\n",
    "########################################################\n",
    "\n",
    "print(\"***********************\")\n",
    "print(\"Fecha venta:\", fecha)\n",
    "print(\"Cajero:\", cajero)\n",
    "print(\"***********************\")\n",
    "\n",
    "print(\"Producto:\", producto)\n",
    "print(\"Clave:\", clave)\n",
    "\n",
    "print(\"Cantidad vendida:\", cantidad)\n",
    "print(\"Precio: $\", precio)\n",
    "\n",
    "print(\"Total = $\", total)\n",
    "print(\"***********************\")\n",
    "\n",
    "print(\"Sucursal:\", sucursal)"
   ]
  },
  {
   "cell_type": "markdown",
   "id": "97487cf4",
   "metadata": {},
   "source": [
    "Adicionalmente, como tarea de clase se dejo mejorar el código anterior realizando la implementación de lo aprendido con la librería ``random``, consiguiendo así que las elecciones de los productos, sucursales, cantidades vendidas y claves fueran seleccionadas o generadas de manera aleatoria (y de manera automática). Dicho código está dado por:"
   ]
  },
  {
   "cell_type": "code",
   "execution_count": 24,
   "id": "c72c19c3",
   "metadata": {},
   "outputs": [
    {
     "name": "stdout",
     "output_type": "stream",
     "text": [
      "***********************\n",
      "Fecha venta: 2025-05-15\n",
      "Cajero: Luis Apáez\n",
      "***********************\n",
      "Producto: Cargadores\n",
      "Clave: JFY-993\n",
      "Cantidad vendida: 16\n",
      "Precio: $ 2752.1686899165948\n",
      "Total = $ 44034.699038665516\n",
      "***********************\n",
      "Sucursal: Cuemanco\n"
     ]
    }
   ],
   "source": [
    "import random as r\n",
    "\n",
    "# Definimos las listas\n",
    "abcdario = [\n",
    "  'A', 'B', 'C', 'D', 'E', 'F', 'G', 'H', 'I', 'J',\n",
    "  'K', 'L', 'M', 'N', 'O', 'P', 'Q', 'R', 'S', 'T',\n",
    "  'U', 'V', 'W', 'X', 'Y', 'Z'\n",
    "  ]\n",
    "\n",
    "papelerias = [\n",
    "  'Xochimilco', 'Cuemanco', 'Coapa', 'Milpa Alta',\n",
    "  'CU', 'Zócalo', 'Narvarte', 'Santa Fé', 'Polanco',\n",
    "  'Centro'\n",
    "  ]\n",
    "\n",
    "lineas = [\n",
    "    'Cuadernos', 'Libretas', 'Lápices', 'Plumones', 'Borradores', 'Sacapuntas',\n",
    "    'Laptops', 'Tablets', 'Mochilas', 'Bolsas', 'Cajas', 'Pegamento', 'Tijeras',\n",
    "    'Monitores', 'Teclados', 'Mouse', 'Audífonos', 'Cables', 'Cargadores', 'Baterías',\n",
    "    'Pc', 'Uniformes', 'Pinturas', 'Pinceles', 'Papel', 'Cartulinas'\n",
    "    ]\n",
    "\n",
    "# Zona de definicion de variables\n",
    "fecha = \"2025-05-15\"\n",
    "cajero = \"Luis Apáez\"\n",
    "producto = r.choice(lineas)\n",
    "clave = r.choice(abcdario) + r.choice(abcdario) + r.choice(abcdario) + '-' + str(r.randint(1, 9)) + str(r.randint(1, 9)) + str(r.randint(1, 9)) \n",
    "cantidad = r.randint(1, 50)\n",
    "precio = r.randint(1, 10000) * r.random()\n",
    "total = precio * cantidad\n",
    "sucursal = r.choice(papelerias)\n",
    "\n",
    "########################################################\n",
    "########################################################\n",
    "########################################################\n",
    "\n",
    "print(\"***********************\")\n",
    "print(\"Fecha venta:\", fecha)\n",
    "print(\"Cajero:\", cajero)\n",
    "print(\"***********************\")\n",
    "\n",
    "print(\"Producto:\", producto)\n",
    "print(\"Clave:\", clave)\n",
    "\n",
    "print(\"Cantidad vendida:\", cantidad)\n",
    "print(\"Precio: $\", precio)\n",
    "\n",
    "print(\"Total = $\", total)\n",
    "print(\"***********************\")\n",
    "\n",
    "print(\"Sucursal:\", sucursal)"
   ]
  },
  {
   "cell_type": "markdown",
   "id": "b1da154f",
   "metadata": {},
   "source": [
    "Si bien con lo anterior ya podemos registrar una venta (y de hecho es ya un código de cierta manera automático), esto deja de ser viable cuando querramos simular 1000 ventas diarias, pues nuestro proceso aún es manual. Para solucionar lo anterior aprenderemos diferentes temas de utilidad en general.\n",
    "\n",
    "**Objetivo de clase:** Simular 1000 ventas correspondientes al 17 de mayo y guardar la información en una tabla ``dataframe``.\n",
    "\n",
    "Para lograr lo anterior aprenderemos\n",
    "\n",
    "<a style=\"background-color:rgb(213, 255, 27); color: #000000; border: none; padding: 10px 15px; border-radius: 5px;\">Bucle For</a> &nbsp; &nbsp; <a style=\"background-color:rgb(213, 255, 27); color: #000000; border: none; padding: 10px 15px; border-radius: 5px;\">Diccionarios</a> &nbsp; &nbsp; <a style=\"background-color:rgb(213, 255, 27); color: #000000; border: none; padding: 10px 15px; border-radius: 5px;\">Librería Pandas</a>\n",
    "&nbsp; &nbsp; <a style=\"background-color:rgb(213, 255, 27); color: #000000; border: none; padding: 10px 15px; border-radius: 5px;\">Librería datetime</a> "
   ]
  },
  {
   "cell_type": "markdown",
   "id": "97cb1369",
   "metadata": {},
   "source": [
    "### Parte III: Librería datetime\n",
    "\n",
    "La biblioteca ``datetime`` de ``Python`` es una librería con funciones para trabajar con fechas y horas de manera eficiente. Es fundamental para tareas como obtener la fecha y hora actuales, realizar cálculos temporales, formatear fechas y manejar zonas horarias. Esta librería, junto con más elementos, puede servirnos para:\n",
    "\n",
    "1. Automatización de Reportes Financieros: En el sector financiero, es común generar reportes periódicos que resumen transacciones, balances y otros indicadores clave. Utilizando ``datetime``, se puede automatizar la generación de estos informes en intervalos específicos (diarios, semanales, mensuales), asegurando que se ejecuten puntualmente y contengan la información correspondiente al período deseado. \n",
    "\n",
    "2. Análisis de Datos Temporales: En el análisis de datos, especialmente aquellos que incluyen marcas de tiempo (``timestamp``), es fundamental agrupar, filtrar y analizar información basada en fechas y horas. Con ``datetime``, se pueden convertir cadenas de texto en objetos de fecha, comparar intervalos y extraer componentes específicos (año, mes, día) para realizar análisis detallados.\n",
    "\n",
    "---\n",
    "\n",
    "Antes de continuar es preciso indicar que:"
   ]
  },
  {
   "cell_type": "code",
   "execution_count": 16,
   "id": "a9e297dd",
   "metadata": {},
   "outputs": [
    {
     "data": {
      "text/plain": [
       "'2025-05-15'"
      ]
     },
     "execution_count": 16,
     "metadata": {},
     "output_type": "execute_result"
    }
   ],
   "source": [
    "fecha = \"2025-05-15\"\n",
    "fecha"
   ]
  },
  {
   "cell_type": "markdown",
   "id": "91931b7f",
   "metadata": {},
   "source": [
    "donde dicho string guarda una fecha, pero la realidad es que para ``python`` no deja de ser un string:"
   ]
  },
  {
   "cell_type": "code",
   "execution_count": 17,
   "id": "204b5531",
   "metadata": {},
   "outputs": [
    {
     "data": {
      "text/plain": [
       "str"
      ]
     },
     "execution_count": 17,
     "metadata": {},
     "output_type": "execute_result"
    }
   ],
   "source": [
    "# la funcion type() nos dice el tipo de dato de una variable\n",
    "type(fecha)"
   ]
  },
  {
   "cell_type": "markdown",
   "id": "3aff1040",
   "metadata": {},
   "source": [
    "De tal suerte, dentro de python tenemos objetos fecha, los cuales sí son fechas y podemos realizar cálculos con ellos, por ejemplo:\n",
    "\n",
    "1. Podemos sumar fechas.\n",
    "2. Podemos obtener el día, mes y año de una fecha dada.\n",
    "3. Podemos ver el día de la semana que representa.\n",
    "\n",
    "Todo lo anterior (y más) son las ventajas de trabajar con objetos fecha en  ``Python``, para lo cual nos estaremos valiendo de la librería ``datetime``. Con ella podremos automatizar la variable `fecha`."
   ]
  },
  {
   "cell_type": "code",
   "execution_count": 18,
   "id": "adb72bd0",
   "metadata": {},
   "outputs": [
    {
     "data": {
      "text/plain": [
       "datetime.datetime(2025, 5, 16, 11, 39, 30, 757917)"
      ]
     },
     "execution_count": 18,
     "metadata": {},
     "output_type": "execute_result"
    }
   ],
   "source": [
    "# Realizamos la importacion de la libreria\n",
    "import datetime as dt\n",
    "\n",
    "# Obtenemos la fecha actual con la funcion dt.datetime.now()\n",
    "fecha_actual = dt.datetime.now()\n",
    "fecha_actual"
   ]
  },
  {
   "cell_type": "markdown",
   "id": "caec4292",
   "metadata": {},
   "source": [
    "El resultado anterior es, en efecto, un objeto fecha:\n"
   ]
  },
  {
   "cell_type": "code",
   "execution_count": 19,
   "id": "3cfb1d80",
   "metadata": {},
   "outputs": [
    {
     "data": {
      "text/plain": [
       "datetime.datetime"
      ]
     },
     "execution_count": 19,
     "metadata": {},
     "output_type": "execute_result"
    }
   ],
   "source": [
    "type(fecha_actual)"
   ]
  },
  {
   "cell_type": "code",
   "execution_count": 20,
   "id": "9e509cfc",
   "metadata": {},
   "outputs": [
    {
     "name": "stdout",
     "output_type": "stream",
     "text": [
      "Año: 2025\n",
      "Mes: 5\n",
      "Dia: 16\n",
      "Dia de la semana: 4\n"
     ]
    }
   ],
   "source": [
    "# Probemos las diferentes acciones que podemos realizar con la fecha\n",
    "# Obtenemos el año\n",
    "año = fecha_actual.year\n",
    "\n",
    "# Obtenemos el mes\n",
    "mes = fecha_actual.month\n",
    "\n",
    "# Obtenemos el dia\n",
    "dia = fecha_actual.day\n",
    "\n",
    "# Obtenemos que dia de la semana es\n",
    "dia_semana = fecha_actual.weekday()\n",
    "\n",
    "# Mandamos a imprimir\n",
    "print(\"Año:\", año)\n",
    "print(\"Mes:\", mes)\n",
    "print(\"Dia:\", dia)\n",
    "print(\"Dia de la semana:\", dia_semana)"
   ]
  },
  {
   "cell_type": "markdown",
   "id": "a5a30dab",
   "metadata": {},
   "source": [
    "donde el día de la semana:\n",
    "\n",
    "* 0 = Lunes\n",
    "* 1 = Martes\n",
    "* 2 = Miercoles\n",
    "* 3 = Jueves\n",
    "* 4 = Viernes\n",
    "* 5 = Sabado\n",
    "* 6 = Domingo\n",
    "\n",
    "Podemos convertir un objeto fecha a un string y viceversa:"
   ]
  },
  {
   "cell_type": "code",
   "execution_count": 21,
   "id": "3fe6fee1",
   "metadata": {},
   "outputs": [
    {
     "name": "stdout",
     "output_type": "stream",
     "text": [
      "Fecha como string: 2025-05-16\n",
      "\n",
      "Fecha como objeto datetime: 2025-05-15 00:00:00\n"
     ]
    }
   ],
   "source": [
    "# Convertimos la fecha a un string\n",
    "fecha_str = fecha_actual.strftime(\"%Y-%m-%d\")\n",
    "print(\"Fecha como string:\", fecha_str)\n",
    "print()\n",
    "\n",
    "# Convertirmos la fecha a un objeto datetime con la \n",
    "# funcion strptime(\"%Y-%m-%d\")\n",
    "fecha_obj = dt.datetime.strptime(fecha, \"%Y-%m-%d\")\n",
    "print(\"Fecha como objeto datetime:\", fecha_obj)"
   ]
  },
  {
   "cell_type": "markdown",
   "id": "8c12ba3b",
   "metadata": {},
   "source": [
    "De tal suerte, al siguiente código ya no le tenemos que meter 🤚:"
   ]
  },
  {
   "cell_type": "code",
   "execution_count": 25,
   "id": "5456509b",
   "metadata": {},
   "outputs": [
    {
     "name": "stdout",
     "output_type": "stream",
     "text": [
      "***********************\n",
      "Fecha venta: 2025-05-16\n",
      "Cajero: Luis Apáez\n",
      "***********************\n",
      "Producto: Tijeras\n",
      "Clave: EOC-332\n",
      "Cantidad vendida: 37\n",
      "Precio: $ 461.64\n",
      "Total = $ 17080.68\n",
      "***********************\n",
      "Sucursal: Zócalo\n"
     ]
    }
   ],
   "source": [
    "# Zona de definicion de variables\n",
    "fecha = dt.datetime.now().strftime(\"%Y-%m-%d\")\n",
    "cajero = \"Luis Apáez\"\n",
    "producto = r.choice(lineas)\n",
    "clave = r.choice(abcdario) + r.choice(abcdario) + r.choice(abcdario) + '-' + str(r.randint(1, 9)) + str(r.randint(1, 9)) + str(r.randint(1, 9)) \n",
    "cantidad = r.randint(1, 50)\n",
    "\n",
    "# Redondearemos el precio y el total con la fucnion round(),\n",
    "# de donde round(1.2345, 2) nos devuelve 1.23 por ejemplo\n",
    "# Redondeamos el precio a 2 decimales\n",
    "precio = round(r.randint(1, 10000) * r.random(), 2)\n",
    "total = round(precio * cantidad, 2)\n",
    "sucursal = r.choice(papelerias)\n",
    "\n",
    "########################################################\n",
    "########################################################\n",
    "########################################################\n",
    "\n",
    "print(\"***********************\")\n",
    "print(\"Fecha venta:\", fecha)\n",
    "print(\"Cajero:\", cajero)\n",
    "print(\"***********************\")\n",
    "\n",
    "print(\"Producto:\", producto)\n",
    "print(\"Clave:\", clave)\n",
    "\n",
    "print(\"Cantidad vendida:\", cantidad)\n",
    "print(\"Precio: $\", precio)\n",
    "\n",
    "print(\"Total = $\", total)\n",
    "print(\"***********************\")\n",
    "\n",
    "print(\"Sucursal:\", sucursal)"
   ]
  },
  {
   "cell_type": "markdown",
   "id": "909f746e",
   "metadata": {},
   "source": [
    "**Diccionarios**\n",
    "\n",
    "En ``Python``, un diccionario es una estructura de datos que almacena elementos en pares de clave y valor. Cada clave debe ser única, mientras que los valores pueden ser de cualquier tipo de dato, incluyendo listas, otros diccionarios, etc. Esta estructura permite un acceso rápido y eficiente a los datos mediante sus claves.\n",
    "\n",
    "La idea intuitiva es bastante sencilla pues entendemos el concepto de diccionario en la vida real, por ejemplo diccionarios de significados o de traducción. Por otro lado, recordemos que las listas las definimos con ``[ ]``, está vez, los diccionarios se definirán con ``{ }`` de la siguiente manera"
   ]
  },
  {
   "cell_type": "code",
   "execution_count": 27,
   "id": "a3a91ae0",
   "metadata": {},
   "outputs": [
    {
     "data": {
      "text/plain": [
       "{'ciudad': 'Monterrey', 'nombre': 'Ana', 'edad': 30, 'Cuentas': [11, 24, 32]}"
      ]
     },
     "execution_count": 27,
     "metadata": {},
     "output_type": "execute_result"
    }
   ],
   "source": [
    "# Definimos un primer diccionario\n",
    "mi_diccionario = {\n",
    "    # A la izquierda la clave y a la derecha el valor asociado\n",
    "    # Claves| valores\n",
    "    # clave1: valor1\n",
    "    \"ciudad\": \"Monterrey\",\n",
    "    # clave2: valor2\n",
    "    \"nombre\": \"Ana\",\n",
    "    # clave3: valor3\n",
    "    \"edad\":   30,\n",
    "    # clave4: valor4\n",
    "    \"Cuentas\": [11, 24, 32]\n",
    "}\n",
    "mi_diccionario"
   ]
  },
  {
   "cell_type": "code",
   "execution_count": null,
   "id": "12f24d41",
   "metadata": {},
   "outputs": [
    {
     "name": "stdout",
     "output_type": "stream",
     "text": [
      "Ciudad: Monterrey\n",
      "Nombre: Ana\n",
      "Edad: 30\n",
      "Cuentas: [11, 24, 32]\n"
     ]
    }
   ],
   "source": [
    "# Podemos acceder a los elementos individuales de un diccionario\n",
    "# utilizando una notacion similar a la de las listas\n",
    "# donde dentro de los corchetes se coloca la clave y el \n",
    "# valor resultante es el valor asociado a la clave\n",
    "print(\"Ciudad:\", mi_diccionario[\"ciudad\"])\n",
    "print(\"Nombre:\", mi_diccionario[\"nombre\"])\n",
    "print(\"Edad:\", mi_diccionario[\"edad\"])\n",
    "print(\"Cuentas:\", mi_diccionario[\"Cuentas\"])"
   ]
  },
  {
   "cell_type": "markdown",
   "id": "e4678839",
   "metadata": {},
   "source": [
    "Podemos entender la analogía de los diccionarios con las listas, si vemos los índices de los elementos de un lista como si fueran las claves de un diccionario 🥸."
   ]
  },
  {
   "cell_type": "markdown",
   "id": "a230df32",
   "metadata": {},
   "source": [
    "**Bucle for**\n",
    "\n",
    "El bucle for en ``Python`` es una estructura de control que permite iterar (o recorrer) sobre elementos de una secuencia (como listas, tuplas, cadenas, diccionarios o rangos) de manera sencilla y legible, esto es, un bucle for ejecuta un bloque de código una vez por cada elemento en una secuencia.\n",
    "\n",
    "La estructura básica del for es:\n",
    "\n",
    "```\n",
    "for variable_bucle in recorrido_bucle:\n",
    "    # accion a repetir\n",
    "    accion_bucle\n",
    "```\n",
    "\n",
    "Por ejemplo:"
   ]
  },
  {
   "cell_type": "code",
   "execution_count": 30,
   "id": "0099cc1f",
   "metadata": {},
   "outputs": [
    {
     "name": "stdout",
     "output_type": "stream",
     "text": [
      "Hola\n",
      "Hola\n",
      "Hola\n"
     ]
    }
   ],
   "source": [
    "# variable del bucle: numero\n",
    "# rango de valores: 1, 2, 3\n",
    "for numero in [1, 2, 3]:\n",
    "    # Accion a repetir\n",
    "    print(\"Hola\")"
   ]
  },
  {
   "cell_type": "markdown",
   "id": "a0fce290",
   "metadata": {},
   "source": [
    "de donde, por cada elemento de la lista, mandamos a imprimir un ``\"hola\"``, por lo que, como tenemos tres elementos en la lista, entonces se imprimir tres mensajes de hola."
   ]
  },
  {
   "attachments": {
    "image.png": {
     "image/png": "[encoded data removed]"
    }
   },
   "cell_type": "markdown",
   "id": "6c1dc4cf",
   "metadata": {},
   "source": [
    "En diagrama:\n",
    "\n",
    "![image.png](attachment:image.png)"
   ]
  },
  {
   "cell_type": "markdown",
   "id": "9aa40ad5",
   "metadata": {},
   "source": [
    "Ya casi estamos listos para simular 1000 ventas de manera automática y guardarlas en una tabla. Para lograrlo nos falta un último ingrediente:\n",
    "\n",
    "**🐼 Librería pandas 🐼**\n",
    "\n",
    "1. Sin duda la librería más importante en cuanto a manejo de datos.\n",
    "2. Enfocada, en efecto, en manejo de datos.\n",
    "3. \"Es como el Excel pero en Python\"\n",
    "4. \"Es como Excel pero con power ups\"\n",
    "5. \"Es como el visual basic de Excel\"\n",
    "6. La estructura principal de ``pandas`` son los dataframes (sinónimo de tabla).\n",
    "\n",
    "\n",
    "# 👁️ Domina pandas\n",
    "\n",
    "Definamos entonces nuestro primer dataframe"
   ]
  },
  {
   "cell_type": "code",
   "execution_count": 31,
   "id": "c9a8f138",
   "metadata": {},
   "outputs": [
    {
     "data": {
      "text/html": [
       "<div>\n",
       "<style scoped>\n",
       "    .dataframe tbody tr th:only-of-type {\n",
       "        vertical-align: middle;\n",
       "    }\n",
       "\n",
       "    .dataframe tbody tr th {\n",
       "        vertical-align: top;\n",
       "    }\n",
       "\n",
       "    .dataframe thead th {\n",
       "        text-align: right;\n",
       "    }\n",
       "</style>\n",
       "<table border=\"1\" class=\"dataframe\">\n",
       "  <thead>\n",
       "    <tr style=\"text-align: right;\">\n",
       "      <th></th>\n",
       "      <th>Nombre</th>\n",
       "      <th>Apellido</th>\n",
       "      <th>Edad</th>\n",
       "      <th>Ciudad</th>\n",
       "    </tr>\n",
       "  </thead>\n",
       "  <tbody>\n",
       "    <tr>\n",
       "      <th>0</th>\n",
       "      <td>Luis</td>\n",
       "      <td>Apáez</td>\n",
       "      <td>30</td>\n",
       "      <td>Monterrey</td>\n",
       "    </tr>\n",
       "    <tr>\n",
       "      <th>1</th>\n",
       "      <td>Ana</td>\n",
       "      <td>González</td>\n",
       "      <td>25</td>\n",
       "      <td>Guadalajara</td>\n",
       "    </tr>\n",
       "    <tr>\n",
       "      <th>2</th>\n",
       "      <td>Pedro</td>\n",
       "      <td>Pérez</td>\n",
       "      <td>35</td>\n",
       "      <td>CDMX</td>\n",
       "    </tr>\n",
       "    <tr>\n",
       "      <th>3</th>\n",
       "      <td>María</td>\n",
       "      <td>López</td>\n",
       "      <td>28</td>\n",
       "      <td>Puebla</td>\n",
       "    </tr>\n",
       "  </tbody>\n",
       "</table>\n",
       "</div>"
      ],
      "text/plain": [
       "  Nombre  Apellido  Edad       Ciudad\n",
       "0   Luis     Apáez    30    Monterrey\n",
       "1    Ana  González    25  Guadalajara\n",
       "2  Pedro     Pérez    35         CDMX\n",
       "3  María     López    28       Puebla"
      ]
     },
     "execution_count": 31,
     "metadata": {},
     "output_type": "execute_result"
    }
   ],
   "source": [
    "# Realizamos la importacion de la libreria\n",
    "import pandas as pd\n",
    "\n",
    "# Para definir un dataframe  primero debemos de \n",
    "# definir un diccionario donde:\n",
    "# las claves del diccionario seran los nombres de las columnas\n",
    "# y los valores seran listas con los datos de cada columna\n",
    "dict_dataframe_pre = {\n",
    "    \"Nombre\": [\"Luis\", \"Ana\", \"Pedro\", \"María\"],\n",
    "    \"Apellido\": [\"Apáez\", \"González\", \"Pérez\", \"López\"],\n",
    "    \"Edad\": [30, 25, 35, 28],\n",
    "    \"Ciudad\": [\"Monterrey\", \"Guadalajara\", \"CDMX\", \"Puebla\"]\n",
    "}\n",
    "\n",
    "# Creamos el dataframe con la funcion de pandas pd.DataFrame()\n",
    "df = pd.DataFrame(dict_dataframe_pre)\n",
    "df"
   ]
  },
  {
   "cell_type": "code",
   "execution_count": 34,
   "id": "2a70a3e1",
   "metadata": {},
   "outputs": [],
   "source": [
    "# %pip install openpyxl"
   ]
  },
  {
   "cell_type": "code",
   "execution_count": 35,
   "id": "947ead53",
   "metadata": {},
   "outputs": [],
   "source": [
    "# podemos exportar el dataframe a un excel con la funcion to_excel()\n",
    "# dentro, como cadena de texto colocamos el nombre del archivo\n",
    "# y el argumento index=False nos indica que no queremos que se\n",
    "# genere una columna extra con los indices\n",
    "df.to_excel(\"mi_dataframe.xlsx\", index=False)"
   ]
  },
  {
   "cell_type": "markdown",
   "id": "9165b31b",
   "metadata": {},
   "source": [
    "### Parte IV: Consolidación del avance del proyecto\n",
    "\n",
    "Pongamos todos los ingredientes que hemos aprendido para conseguir simular las 1000 ventas de la papelería:"
   ]
  },
  {
   "cell_type": "code",
   "execution_count": 36,
   "id": "4a860b3a",
   "metadata": {},
   "outputs": [
    {
     "data": {
      "text/html": [
       "<div>\n",
       "<style scoped>\n",
       "    .dataframe tbody tr th:only-of-type {\n",
       "        vertical-align: middle;\n",
       "    }\n",
       "\n",
       "    .dataframe tbody tr th {\n",
       "        vertical-align: top;\n",
       "    }\n",
       "\n",
       "    .dataframe thead th {\n",
       "        text-align: right;\n",
       "    }\n",
       "</style>\n",
       "<table border=\"1\" class=\"dataframe\">\n",
       "  <thead>\n",
       "    <tr style=\"text-align: right;\">\n",
       "      <th></th>\n",
       "      <th>Fecha</th>\n",
       "      <th>Producto</th>\n",
       "      <th>Clave</th>\n",
       "      <th>Cantidad</th>\n",
       "      <th>Precio</th>\n",
       "      <th>Total</th>\n",
       "      <th>Sucursal</th>\n",
       "    </tr>\n",
       "  </thead>\n",
       "  <tbody>\n",
       "    <tr>\n",
       "      <th>0</th>\n",
       "      <td>2025-05-16</td>\n",
       "      <td>Audífonos</td>\n",
       "      <td>FAR-395</td>\n",
       "      <td>11</td>\n",
       "      <td>772.54</td>\n",
       "      <td>8497.94</td>\n",
       "      <td>CU</td>\n",
       "    </tr>\n",
       "    <tr>\n",
       "      <th>1</th>\n",
       "      <td>2025-05-16</td>\n",
       "      <td>Audífonos</td>\n",
       "      <td>VJG-583</td>\n",
       "      <td>31</td>\n",
       "      <td>288.05</td>\n",
       "      <td>8929.55</td>\n",
       "      <td>Coapa</td>\n",
       "    </tr>\n",
       "    <tr>\n",
       "      <th>2</th>\n",
       "      <td>2025-05-16</td>\n",
       "      <td>Lápices</td>\n",
       "      <td>DAL-469</td>\n",
       "      <td>42</td>\n",
       "      <td>3135.11</td>\n",
       "      <td>131674.62</td>\n",
       "      <td>Santa Fé</td>\n",
       "    </tr>\n",
       "    <tr>\n",
       "      <th>3</th>\n",
       "      <td>2025-05-16</td>\n",
       "      <td>Borradores</td>\n",
       "      <td>JHV-592</td>\n",
       "      <td>38</td>\n",
       "      <td>141.12</td>\n",
       "      <td>5362.56</td>\n",
       "      <td>Centro</td>\n",
       "    </tr>\n",
       "    <tr>\n",
       "      <th>4</th>\n",
       "      <td>2025-05-16</td>\n",
       "      <td>Pegamento</td>\n",
       "      <td>XEO-899</td>\n",
       "      <td>24</td>\n",
       "      <td>1562.04</td>\n",
       "      <td>37488.96</td>\n",
       "      <td>Zócalo</td>\n",
       "    </tr>\n",
       "    <tr>\n",
       "      <th>...</th>\n",
       "      <td>...</td>\n",
       "      <td>...</td>\n",
       "      <td>...</td>\n",
       "      <td>...</td>\n",
       "      <td>...</td>\n",
       "      <td>...</td>\n",
       "      <td>...</td>\n",
       "    </tr>\n",
       "    <tr>\n",
       "      <th>995</th>\n",
       "      <td>2025-05-16</td>\n",
       "      <td>Baterías</td>\n",
       "      <td>HNL-854</td>\n",
       "      <td>13</td>\n",
       "      <td>6527.27</td>\n",
       "      <td>84854.51</td>\n",
       "      <td>Narvarte</td>\n",
       "    </tr>\n",
       "    <tr>\n",
       "      <th>996</th>\n",
       "      <td>2025-05-16</td>\n",
       "      <td>Cartulinas</td>\n",
       "      <td>AWT-595</td>\n",
       "      <td>24</td>\n",
       "      <td>368.07</td>\n",
       "      <td>8833.68</td>\n",
       "      <td>Narvarte</td>\n",
       "    </tr>\n",
       "    <tr>\n",
       "      <th>997</th>\n",
       "      <td>2025-05-16</td>\n",
       "      <td>Borradores</td>\n",
       "      <td>KAZ-457</td>\n",
       "      <td>1</td>\n",
       "      <td>8020.31</td>\n",
       "      <td>8020.31</td>\n",
       "      <td>CU</td>\n",
       "    </tr>\n",
       "    <tr>\n",
       "      <th>998</th>\n",
       "      <td>2025-05-16</td>\n",
       "      <td>Pegamento</td>\n",
       "      <td>AMI-784</td>\n",
       "      <td>27</td>\n",
       "      <td>4632.04</td>\n",
       "      <td>125065.08</td>\n",
       "      <td>Coapa</td>\n",
       "    </tr>\n",
       "    <tr>\n",
       "      <th>999</th>\n",
       "      <td>2025-05-16</td>\n",
       "      <td>Cartulinas</td>\n",
       "      <td>LPR-322</td>\n",
       "      <td>46</td>\n",
       "      <td>62.45</td>\n",
       "      <td>2872.70</td>\n",
       "      <td>Cuemanco</td>\n",
       "    </tr>\n",
       "  </tbody>\n",
       "</table>\n",
       "<p>1000 rows × 7 columns</p>\n",
       "</div>"
      ],
      "text/plain": [
       "          Fecha    Producto    Clave  Cantidad   Precio      Total  Sucursal\n",
       "0    2025-05-16   Audífonos  FAR-395        11   772.54    8497.94        CU\n",
       "1    2025-05-16   Audífonos  VJG-583        31   288.05    8929.55     Coapa\n",
       "2    2025-05-16     Lápices  DAL-469        42  3135.11  131674.62  Santa Fé\n",
       "3    2025-05-16  Borradores  JHV-592        38   141.12    5362.56    Centro\n",
       "4    2025-05-16   Pegamento  XEO-899        24  1562.04   37488.96    Zócalo\n",
       "..          ...         ...      ...       ...      ...        ...       ...\n",
       "995  2025-05-16    Baterías  HNL-854        13  6527.27   84854.51  Narvarte\n",
       "996  2025-05-16  Cartulinas  AWT-595        24   368.07    8833.68  Narvarte\n",
       "997  2025-05-16  Borradores  KAZ-457         1  8020.31    8020.31        CU\n",
       "998  2025-05-16   Pegamento  AMI-784        27  4632.04  125065.08     Coapa\n",
       "999  2025-05-16  Cartulinas  LPR-322        46    62.45    2872.70  Cuemanco\n",
       "\n",
       "[1000 rows x 7 columns]"
      ]
     },
     "execution_count": 36,
     "metadata": {},
     "output_type": "execute_result"
    }
   ],
   "source": [
    "# ========================== Parte I ==========================\n",
    "# Definicion de las listas\n",
    "abcdario = [\n",
    "  'A', 'B', 'C', 'D', 'E', 'F', 'G', 'H', 'I', 'J',\n",
    "  'K', 'L', 'M', 'N', 'O', 'P', 'Q', 'R', 'S', 'T',\n",
    "  'U', 'V', 'W', 'X', 'Y', 'Z'\n",
    "  ]\n",
    "\n",
    "papelerias = [\n",
    "  'Xochimilco', 'Cuemanco', 'Coapa', 'Milpa Alta',\n",
    "  'CU', 'Zócalo', 'Narvarte', 'Santa Fé', 'Polanco',\n",
    "  'Centro'\n",
    "  ]\n",
    "\n",
    "lineas = [\n",
    "    'Cuadernos', 'Libretas', 'Lápices', 'Plumones', 'Borradores', 'Sacapuntas',\n",
    "    'Laptops', 'Tablets', 'Mochilas', 'Bolsas', 'Cajas', 'Pegamento', 'Tijeras',\n",
    "    'Monitores', 'Teclados', 'Mouse', 'Audífonos', 'Cables', 'Cargadores', 'Baterías',\n",
    "    'Pc', 'Uniformes', 'Pinturas', 'Pinceles', 'Papel', 'Cartulinas'\n",
    "    ]\n",
    "\n",
    "# =========================== Parte II ==========================\n",
    "# Definimos listas vacias que posteriormente iremos llenando\n",
    "# con los datos de cada venta mediante la funcion append()\n",
    "# y el bucle for\n",
    "\n",
    "fechas = []\n",
    "productos = []\n",
    "claves = []\n",
    "cantidades = []\n",
    "precios = []\n",
    "totales = []\n",
    "sucursales = []\n",
    "\n",
    "# ========================= Parte III ==========================\n",
    "# Repetimos un bucle for 1000 veces, donde en cada iteracion\n",
    "# o cada vuelta, agregamos un nuevo elemento a cada lista\n",
    "for i in range(1000):\n",
    "    # Zona de definicion de variables\n",
    "    fecha = dt.datetime.now().strftime(\"%Y-%m-%d\")\n",
    "    producto = r.choice(lineas)\n",
    "    clave = r.choice(abcdario) + r.choice(abcdario) + r.choice(abcdario) + '-' + str(r.randint(1, 9)) + str(r.randint(1, 9)) + str(r.randint(1, 9)) \n",
    "    cantidad = r.randint(1, 50)\n",
    "    precio = round(r.randint(1, 10000) * r.random(), 2)\n",
    "    total = round(precio * cantidad, 2)\n",
    "    sucursal = r.choice(papelerias)\n",
    "\n",
    "    # Agregamos los datos a las listas\n",
    "    fechas.append(fecha)\n",
    "    productos.append(producto)\n",
    "    claves.append(clave)\n",
    "    cantidades.append(cantidad)\n",
    "    precios.append(precio)\n",
    "    totales.append(total)\n",
    "    sucursales.append(sucursal)\n",
    "\n",
    "# ========================= Parte IV ==========================\n",
    "# Definimos un diccionario donde las claves seran los nombres\n",
    "# de las columnas y los valores seran las listas que llenamos\n",
    "dict_pre_ventas = {\n",
    "    \"Fecha\": fechas,\n",
    "    \"Producto\": productos,\n",
    "    \"Clave\": claves,\n",
    "    \"Cantidad\": cantidades,\n",
    "    \"Precio\": precios,\n",
    "    \"Total\": totales,\n",
    "    \"Sucursal\": sucursales\n",
    "}\n",
    "\n",
    "# ========================== Parte V ==========================\n",
    "# Creamos el dataframe con la funcion de pandas pd.DataFrame()\n",
    "df_ventas = pd.DataFrame(dict_pre_ventas)\n",
    "df_ventas"
   ]
  }
 ],
 "metadata": {
  "kernelspec": {
   "display_name": "Python 3",
   "language": "python",
   "name": "python3"
  },
  "language_info": {
   "codemirror_mode": {
    "name": "ipython",
    "version": 3
   },
   "file_extension": ".py",
   "mimetype": "text/x-python",
   "name": "python",
   "nbconvert_exporter": "python",
   "pygments_lexer": "ipython3",
   "version": "3.12.1"
  }
 },
 "nbformat": 4,
 "nbformat_minor": 5
}
