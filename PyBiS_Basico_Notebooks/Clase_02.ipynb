{
 "cells": [
  {
   "cell_type": "markdown",
   "id": "ca60688c",
   "metadata": {},
   "source": [
    "# 💥 Primeros pasos con ``Python`` 💥\n",
    "\n",
    "|| <a style=\"background-color: #1bf8ff; color: #000000; border: none; padding: 10px 15px; border-radius: 5px;\">17 de Mayo del 2025</a> ||\n",
    "<a style=\"background-color: #1bf8ff; color: #000000; border: none; padding: 10px 15px; border-radius: 5px;\">Clase 2</a> ||\n",
    "<a style=\"background-color: #1bf8ff; color: #000000; border: none; padding: 10px 15px; border-radius: 5px;\">Cursos PyM</a> ||\n",
    "<a style=\"background-color: #1bf8ff; color: #000000; border: none; padding: 10px 15px; border-radius: 5px;\">Luis Fernando Apáez Álvarez</a> ||\n",
    "\n",
    "## 🪗Acordeón de clase🪗\n",
    "\n",
    "---\n"
   ]
  },
  {
   "cell_type": "markdown",
   "id": "2dc55344",
   "metadata": {},
   "source": [
    "Comenzamos con la clase 2 realizando el primer ejercicio para participación de clase:\n",
    "\n",
    "### 📢 Sistema de puntos 📢\n",
    "\n",
    "Resuelve el siguiente ejercicio (tiempo aproximado: 5 min):\n",
    "\n",
    "```\n",
    "Crea variables para representar a un alumno:\n",
    "\n",
    "nombre\n",
    "\n",
    "edad\n",
    "\n",
    "promedio\n",
    "\n",
    "si está inscrito (booleano)\n",
    "\n",
    "Manda a imprmir las variables.\n",
    "```\n",
    "\n",
    "Tómale foto o captura a tu código y mándalo al grupo de whats app 🥸\n",
    "\n",
    "---\n",
    "\n",
    "Recordamos que en la clase pasada logramos imprimir un ticket de venta utilizando el código:"
   ]
  },
  {
   "cell_type": "code",
   "execution_count": 1,
   "id": "8718450e",
   "metadata": {},
   "outputs": [
    {
     "name": "stdout",
     "output_type": "stream",
     "text": [
      "***********************\n",
      "Fecha venta: 2025-05-15\n",
      "Cajero: Luis Apáez\n",
      "***********************\n",
      "Producto: Libreta\n",
      "Clave: AAA-123\n",
      "Cantidad vendida: 1\n",
      "Precio: $ 100\n",
      "Total = $ 100\n",
      "***********************\n",
      "Sucursal: Xochimilco\n"
     ]
    }
   ],
   "source": [
    "# Zona de definicion de variables\n",
    "fecha = \"2025-05-15\"\n",
    "cajero = \"Luis Apáez\"\n",
    "producto = 'Libreta'\n",
    "clave = 'AAA-123'\n",
    "cantidad = 1\n",
    "precio = 100\n",
    "total = precio * cantidad\n",
    "sucursal = \"Xochimilco\"\n",
    "\n",
    "########################################################\n",
    "########################################################\n",
    "########################################################\n",
    "\n",
    "print(\"***********************\")\n",
    "print(\"Fecha venta:\", fecha)\n",
    "print(\"Cajero:\", cajero)\n",
    "print(\"***********************\")\n",
    "\n",
    "print(\"Producto:\", producto)\n",
    "print(\"Clave:\", clave)\n",
    "\n",
    "print(\"Cantidad vendida:\", cantidad)\n",
    "print(\"Precio: $\", precio)\n",
    "\n",
    "print(\"Total = $\", total)\n",
    "print(\"***********************\")\n",
    "\n",
    "print(\"Sucursal:\", sucursal)"
   ]
  },
  {
   "cell_type": "markdown",
   "id": "97487cf4",
   "metadata": {},
   "source": [
    "Adicionalmente, como tarea de clase se dejo mejorar el código anterior realizando la implementación de lo aprendido con la librería ``random``, consiguiendo así que las elecciones de los productos, sucursales, cantidades vendidas y claves fueran seleccionadas o generadas de manera aleatoria (y de manera automática). Dicho código está dado por:"
   ]
  },
  {
   "cell_type": "code",
   "execution_count": 4,
   "id": "c72c19c3",
   "metadata": {},
   "outputs": [
    {
     "name": "stdout",
     "output_type": "stream",
     "text": [
      "***********************\n",
      "Fecha venta: 2025-05-15\n",
      "Cajero: Luis Apáez\n",
      "***********************\n",
      "Producto: Pegamento\n",
      "Clave: VCU-7-35\n",
      "Cantidad vendida: 4\n",
      "Precio: $ 6682.962028930504\n",
      "Total = $ 26731.848115722016\n",
      "***********************\n",
      "Sucursal: Santa Fé\n"
     ]
    }
   ],
   "source": [
    "import random as r\n",
    "\n",
    "# Definimos las listas\n",
    "abcdario = [\n",
    "  'A', 'B', 'C', 'D', 'E', 'F', 'G', 'H', 'I', 'J',\n",
    "  'K', 'L', 'M', 'N', 'O', 'P', 'Q', 'R', 'S', 'T',\n",
    "  'U', 'V', 'W', 'X', 'Y', 'Z'\n",
    "  ]\n",
    "\n",
    "papelerias = [\n",
    "  'Xochimilco', 'Cuemanco', 'Coapa', 'Milpa Alta',\n",
    "  'CU', 'Zócalo', 'Narvarte', 'Santa Fé', 'Polanco',\n",
    "  'Centro'\n",
    "  ]\n",
    "\n",
    "lineas = [\n",
    "    'Cuadernos', 'Libretas', 'Lápices', 'Plumones', 'Borradores', 'Sacapuntas',\n",
    "    'Laptops', 'Tablets', 'Mochilas', 'Bolsas', 'Cajas', 'Pegamento', 'Tijeras',\n",
    "    'Monitores', 'Teclados', 'Mouse', 'Audífonos', 'Cables', 'Cargadores', 'Baterías',\n",
    "    'Pc', 'Uniformes', 'Pinturas', 'Pinceles', 'Papel', 'Cartulinas'\n",
    "    ]\n",
    "\n",
    "# Zona de definicion de variables\n",
    "fecha = \"2025-05-15\"\n",
    "cajero = \"Luis Apáez\"\n",
    "producto = r.choice(lineas)\n",
    "clave = r.choice(abcdario) + r.choice(abcdario) + r.choice(abcdario) + '-' + str(r.randint(1, 9)) + '-' + str(r.randint(1, 9)) + str(r.randint(1, 9)) \n",
    "cantidad = r.randint(1, 50)\n",
    "precio = r.randint(1, 10000) * r.random()\n",
    "total = precio * cantidad\n",
    "sucursal = r.choice(papelerias)\n",
    "\n",
    "########################################################\n",
    "########################################################\n",
    "########################################################\n",
    "\n",
    "print(\"***********************\")\n",
    "print(\"Fecha venta:\", fecha)\n",
    "print(\"Cajero:\", cajero)\n",
    "print(\"***********************\")\n",
    "\n",
    "print(\"Producto:\", producto)\n",
    "print(\"Clave:\", clave)\n",
    "\n",
    "print(\"Cantidad vendida:\", cantidad)\n",
    "print(\"Precio: $\", precio)\n",
    "\n",
    "print(\"Total = $\", total)\n",
    "print(\"***********************\")\n",
    "\n",
    "print(\"Sucursal:\", sucursal)"
   ]
  },
  {
   "cell_type": "markdown",
   "id": "b1da154f",
   "metadata": {},
   "source": [
    "Si bien con lo anterior ya podemos registrar una venta (y de hecho es ya un código de cierta manera automático), esto deja de ser viable cuando querramos simular 1000 ventas diarias, pues nuestro proceso aún es manual. Para solucionar lo anterior aprenderemos diferentes temas de utilidad en general.\n",
    "\n",
    "**Objetivo de clase:** Simular 1000 ventas correspondientes al 17 de mayo y guardar la información en una tabla ``dataframe``.\n",
    "\n",
    "Para lograr lo anterior aprenderemos\n",
    "\n",
    "<a style=\"background-color:rgb(213, 255, 27); color: #000000; border: none; padding: 10px 15px; border-radius: 5px;\">Bucle For</a> &nbsp; &nbsp; <a style=\"background-color:rgb(213, 255, 27); color: #000000; border: none; padding: 10px 15px; border-radius: 5px;\">Diccionarios</a> &nbsp; &nbsp; <a style=\"background-color:rgb(213, 255, 27); color: #000000; border: none; padding: 10px 15px; border-radius: 5px;\">Librería Pandas</a>\n",
    "&nbsp; &nbsp; <a style=\"background-color:rgb(213, 255, 27); color: #000000; border: none; padding: 10px 15px; border-radius: 5px;\">Librería datetime</a> "
   ]
  },
  {
   "cell_type": "markdown",
   "id": "97cb1369",
   "metadata": {},
   "source": [
    "### Parte III: Librería datetime\n",
    "\n",
    "La biblioteca ``datetime`` de ``Python`` es una librería con funciones para trabajar con fechas y horas de manera eficiente. Es fundamental para tareas como obtener la fecha y hora actuales, realizar cálculos temporales, formatear fechas y manejar zonas horarias. Esta librería, junto con más elementos, puede servirnos para:\n",
    "\n",
    "1. Automatización de Reportes Financieros: En el sector financiero, es común generar reportes periódicos que resumen transacciones, balances y otros indicadores clave. Utilizando ``datetime``, se puede automatizar la generación de estos informes en intervalos específicos (diarios, semanales, mensuales), asegurando que se ejecuten puntualmente y contengan la información correspondiente al período deseado. \n",
    "\n",
    "2. Análisis de Datos Temporales: En el análisis de datos, especialmente aquellos que incluyen marcas de tiempo (``timestamp``), es fundamental agrupar, filtrar y analizar información basada en fechas y horas. Con ``datetime``, se pueden convertir cadenas de texto en objetos de fecha, comparar intervalos y extraer componentes específicos (año, mes, día) para realizar análisis detallados.\n",
    "\n",
    "---\n",
    "\n",
    "Antes de continuar es preciso indicar que:"
   ]
  },
  {
   "cell_type": "code",
   "execution_count": 5,
   "id": "a9e297dd",
   "metadata": {},
   "outputs": [
    {
     "data": {
      "text/plain": [
       "'2025-05-15'"
      ]
     },
     "execution_count": 5,
     "metadata": {},
     "output_type": "execute_result"
    }
   ],
   "source": [
    "fecha = \"2025-05-15\"\n",
    "fecha"
   ]
  },
  {
   "cell_type": "markdown",
   "id": "91931b7f",
   "metadata": {},
   "source": [
    "a pesar que lo anterior es una fecha para nosotros, para ``python`` no deja de ser un string:"
   ]
  },
  {
   "cell_type": "code",
   "execution_count": null,
   "id": "204b5531",
   "metadata": {},
   "outputs": [
    {
     "data": {
      "text/plain": [
       "str"
      ]
     },
     "execution_count": 6,
     "metadata": {},
     "output_type": "execute_result"
    }
   ],
   "source": [
    "# la funcion type() nos dice el tipo de dato de una variable\n",
    "type(fecha)"
   ]
  },
  {
   "cell_type": "markdown",
   "id": "3aff1040",
   "metadata": {},
   "source": [
    "De tal suerte, dentro de python tenemos objetos fecha, los cuales sí sonn fechas y podemos realizar cálculos con ellos, por ejemplo:\n",
    "\n",
    "1. Podemos sumar fechas.\n",
    "2. Podemos obtener el día, mes y año de una fecha dado.\n",
    "3. Podemos ver el día de la semana que representa.\n",
    "\n",
    "Las anteriores y más son ventajas de manejar fechas con ``Python``, para lo cual nos valdremos de la librería ``datetime``."
   ]
  },
  {
   "cell_type": "markdown",
   "id": "caec4292",
   "metadata": {},
   "source": [
    "\n"
   ]
  }
 ],
 "metadata": {
  "kernelspec": {
   "display_name": "Python 3",
   "language": "python",
   "name": "python3"
  },
  "language_info": {
   "codemirror_mode": {
    "name": "ipython",
    "version": 3
   },
   "file_extension": ".py",
   "mimetype": "text/x-python",
   "name": "python",
   "nbconvert_exporter": "python",
   "pygments_lexer": "ipython3",
   "version": "3.12.1"
  }
 },
 "nbformat": 4,
 "nbformat_minor": 5
}
