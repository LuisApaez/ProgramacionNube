{
 "cells": [
  {
   "cell_type": "markdown",
   "id": "a4af7cb3",
   "metadata": {},
   "source": [
    "# 💥 Primeros pasos con ``Python`` y ``SQL`` 💥\n",
    "\n",
    "|| <a style=\"background-color: #1bf8ff; color: #000000; border: none; padding: 10px 15px; border-radius: 5px;\">20 de Mayo del 2025</a> ||\n",
    "<a style=\"background-color: #1bf8ff; color: #000000; border: none; padding: 10px 15px; border-radius: 5px;\">Clase 3</a> ||\n",
    "<a style=\"background-color: #1bf8ff; color: #000000; border: none; padding: 10px 15px; border-radius: 5px;\">Cursos PyM</a> ||\n",
    "<a style=\"background-color: #1bf8ff; color: #000000; border: none; padding: 10px 15px; border-radius: 5px;\">Luis Fernando Apáez Álvarez</a> ||\n",
    "\n",
    "## 🪗Acordeón de clase🪗\n",
    "\n",
    "---\n",
    "\n",
    "Recordemos que en la clase pasada, y en conjunto con el avance del proyecto que se dejo, logramos simular la información de las ventas de la papelería y obtuvimos un dataframe como resultado, donde además logramos exportarlo a Excel.\n",
    "\n",
    "* Un tema relevante por resaltar es el manejo de fechas que, como comentamos, no es un tema sencillo de abordar pero sí bastante útil para la automatización de procesos.\n",
    "\n",
    "Continuando . . .\n",
    "\n",
    "**Objetivo de clase:** Automatizar el código para la generación de las ventas de las papelerías por medio de ``funciones definidas por el usuario``, además, lograr crear una tabla y una base de datos en ``SQL``. También, subiremos la información del dataframe resultante a la tabla creada en ``SQL``\n",
    "\n",
    "Para lograr imprimir el ticket anterior aprenderemos:\n",
    "\n",
    "<a style=\"background-color:rgb(213, 255, 27); color: #000000; border: none; padding: 10px 15px; border-radius: 5px;\">Funciones y f-string</a> &nbsp; &nbsp; <a style=\"background-color:rgb(213, 255, 27); color: #000000; border: none; padding: 10px 15px; border-radius: 5px;\">Más de Pandas</a> &nbsp; &nbsp; <a style=\"background-color:rgb(213, 255, 27); color: #000000; border: none; padding: 10px 15px; border-radius: 5px;\">Intro. SQL</a>\n",
    "&nbsp; &nbsp; <a style=\"background-color:rgb(213, 255, 27); color: #000000; border: none; padding: 10px 15px; border-radius: 5px;\">CREATE e INSERT</a> "
   ]
  },
  {
   "cell_type": "markdown",
   "id": "432d5aef",
   "metadata": {},
   "source": [
    "---\n",
    "\n",
    "Recuerda que es buena práctica realizar la importación de todas las librerías en la primer celda (o caja) de código"
   ]
  },
  {
   "cell_type": "code",
   "execution_count": 11,
   "id": "a9f36c4b",
   "metadata": {},
   "outputs": [],
   "source": [
    "import pandas as pd\n",
    "import random as r\n",
    "import datetime as dt\n",
    "\n",
    "# libreria para trabajar con SQL \n",
    "import sqlite3 as sql"
   ]
  },
  {
   "cell_type": "markdown",
   "id": "451152c8",
   "metadata": {},
   "source": [
    "### Funciones definidas por el usuario\n",
    "\n",
    "Al punto en que tomamos esta clase hemos abordado una gran cantidad de funciones en ``Python``, funciones que previamente ya estaban definidas, ya sea de Python base o de alguna librería en particular. Ahora bien, veremos el tema de _funciones definidas por el usuario_, tema que nos permitirà definir nuestras propias funciones. En el contexto del curso, las funcfunciones las utilizaremos como auxiliares para la automatización de procesos.\n",
    "\n",
    "Para introducirnos al tema de funciones lo haremos haciendo alusión a las funciones matemáticas y nuestra primer función en ``Python`` será: $f(x)=x^{2}$. Para definir una función seguiremos la siguiente estructura\n",
    "\n",
    "```\n",
    "def nombre_funcion(paramtro_funcion):\n",
    "    accion_funcion\n",
    "    return valor_a_retornar\n",
    "```\n",
    "\n",
    "De tal suerte"
   ]
  },
  {
   "cell_type": "code",
   "execution_count": 1,
   "id": "1acf9aef",
   "metadata": {},
   "outputs": [
    {
     "name": "stdout",
     "output_type": "stream",
     "text": [
      "4\n",
      "9\n"
     ]
    }
   ],
   "source": [
    "# Definamos nuestra primer funcion\n",
    "def f(x):\n",
    "    # accion que realiza la funcion\n",
    "    elevar_cuadrado = x ** 2\n",
    "    # retorna el resultado\n",
    "    return elevar_cuadrado\n",
    "\n",
    "# Pongamos a prueba la funcion\n",
    "print(f(2))\n",
    "print(f(3))"
   ]
  },
  {
   "cell_type": "code",
   "execution_count": 3,
   "id": "132ddcdf",
   "metadata": {},
   "outputs": [
    {
     "name": "stdout",
     "output_type": "stream",
     "text": [
      "Hola Kathe, bienvenid@ a Python\n",
      "Hola Pedro, bienvenid@ a Python\n"
     ]
    }
   ],
   "source": [
    "# Definamos una funcion que efectue un saludo personalizado\n",
    "def saludo(nombre):\n",
    "    # accion que realiza la funcion\n",
    "    saludo = \"Hola \" + nombre + \", bienvenid@ a Python\"\n",
    "    # retorna el resultado\n",
    "    return saludo\n",
    "\n",
    "# Pongamos a prueba la funcion\n",
    "print(saludo(\"Kathe\"))\n",
    "print(saludo(\"Pedro\"))"
   ]
  },
  {
   "cell_type": "markdown",
   "id": "28236973",
   "metadata": {},
   "source": [
    "Veamos la automatización de un proceso sencillo calculando el área de un círculo:"
   ]
  },
  {
   "cell_type": "code",
   "execution_count": 7,
   "id": "c1536806",
   "metadata": {},
   "outputs": [
    {
     "name": "stdout",
     "output_type": "stream",
     "text": [
      "El area del circulo de radio = 5 es: 78.54 uˆ2\n"
     ]
    }
   ],
   "source": [
    "# Definimos las varibles\n",
    "pi = 3.1416\n",
    "radio = 5\n",
    "\n",
    "# Definimos una variable que calcule el area\n",
    "area = pi * (radio ** 2)\n",
    "\n",
    "# Redondeamos a dos decimales\n",
    "area = round(area, 2)\n",
    "\n",
    "# Definimos un string que contenga el resultado\n",
    "resultado = \"El area del circulo de radio = \" + str(radio) + \" es: \" + str(area) + \" uˆ2\"\n",
    "print(resultado)"
   ]
  },
  {
   "cell_type": "markdown",
   "id": "14d022d0",
   "metadata": {},
   "source": [
    "Si quisieramos utilizar, o reutilizar, el código anterior para alguna funcionalidad posterior tendríamos que volver a escribir todo el código de nuevo. Así, en este caso es una muy buena idea convertir el código en una función para definirlo una sola vez y utilizarlo mediante una función la veces que queramos."
   ]
  },
  {
   "cell_type": "code",
   "execution_count": 8,
   "id": "c3f52fee",
   "metadata": {},
   "outputs": [
    {
     "name": "stdout",
     "output_type": "stream",
     "text": [
      "El area del circulo de radio = 5 es: 78.54 uˆ2\n",
      "El area del circulo de radio = 10 es: 314.16 uˆ2\n",
      "El area del circulo de radio = 15 es: 706.86 uˆ2\n"
     ]
    }
   ],
   "source": [
    "# Notemos que lo unico variable en nuestro codigo es el radio,\n",
    "# por lo que este sera nuestro unico parametro\n",
    "def calc_area_circulo(radio):\n",
    "    # Definimos las varibles. \n",
    "    pi = 3.1416\n",
    "    # Definimos una variable que calcule el area\n",
    "    area = pi * (radio ** 2)\n",
    "    # Redondeamos a dos decimales\n",
    "    area = round(area, 2)\n",
    "    # Definimos un string que contenga el resultado\n",
    "    resultado = \"El area del circulo de radio = \" + str(radio) + \" es: \" + str(area) + \" uˆ2\"\n",
    "    return resultado\n",
    "\n",
    "# Pongamos a prueba la funcion\n",
    "print(calc_area_circulo(5))\n",
    "print(calc_area_circulo(10))\n",
    "print(calc_area_circulo(15))\n"
   ]
  },
  {
   "cell_type": "markdown",
   "id": "7ab58424",
   "metadata": {},
   "source": [
    "Para complementar, notemos que la concatenación de ls cadenas de texto como lo hemos estado haciendo:\n",
    "\n",
    "```\n",
    "\"El area del circulo de radio = \" + str(radio) + \" es: \" + str(area) + \" uˆ2\"\n",
    "```\n",
    "\n",
    "donde convinamos strings con variables. Una alternativa más limpia sería el uso de _f-string_, el cual consiste, justamente, en combinar cadenas de texto y variables en \"un solo objeto\". Por ejemplo: "
   ]
  },
  {
   "cell_type": "code",
   "execution_count": 9,
   "id": "f412b7b0",
   "metadata": {},
   "outputs": [
    {
     "name": "stdout",
     "output_type": "stream",
     "text": [
      "Hola Luis, bienvenid@ a Python\n",
      "Hola Luis, bienvenid@ a Python\n"
     ]
    }
   ],
   "source": [
    "nombre = \"Luis\"\n",
    "\n",
    "# En vez de escribir\n",
    "saludo = \"Hola \" + nombre + \", bienvenid@ a Python\"\n",
    "\n",
    "# Podemos utilizar un f-string\n",
    "saludo_f = f\"Hola {nombre}, bienvenid@ a Python\"\n",
    "\n",
    "print(saludo)\n",
    "print(saludo_f)"
   ]
  },
  {
   "cell_type": "markdown",
   "id": "f0b71852",
   "metadata": {},
   "source": [
    "donde dentro del _f-string_, el cual se define mediante ``f\"\"``, podemos escribir strings normales, pero si le queremos adjuntar variables lo hacemos colocando dentro las llaves, esto es: ``f\"Cadena normal {variable}\"``. Con lo anterior podemos mejorar un poco la función para cálculo de áreas de círculos:"
   ]
  },
  {
   "cell_type": "code",
   "execution_count": 10,
   "id": "6adbe05b",
   "metadata": {},
   "outputs": [
    {
     "name": "stdout",
     "output_type": "stream",
     "text": [
      "El area del circulo de radio = 5 es: 78.54 uˆ2\n"
     ]
    }
   ],
   "source": [
    "def calc_area_circulo(radio):\n",
    "    # Definimos las varibles. \n",
    "    pi = 3.1416\n",
    "    # Definimos una variable que calcule el area\n",
    "    area = pi * (radio ** 2)\n",
    "    # Redondeamos a dos decimales\n",
    "    area = round(area, 2)\n",
    "    # Definimos un string que contenga el resultado\n",
    "    resultado = f\"El area del circulo de radio = {str(radio)} es: {str(area)} uˆ2\"\n",
    "    return resultado\n",
    "\n",
    "# Pongamos a prueba la funcion\n",
    "print(calc_area_circulo(5))"
   ]
  },
  {
   "cell_type": "markdown",
   "id": "a66eeef6",
   "metadata": {},
   "source": [
    "# Automatización del proyecto "
   ]
  },
  {
   "cell_type": "markdown",
   "id": "cb2c4322",
   "metadata": {},
   "source": [
    "De la clase anterior habías configurado que la fecha se actualizará solo tomando la fecha de hoy con:"
   ]
  },
  {
   "cell_type": "code",
   "execution_count": 12,
   "id": "f30f9b4b",
   "metadata": {},
   "outputs": [
    {
     "data": {
      "text/plain": [
       "datetime.datetime(2025, 5, 19, 13, 23, 1, 856600)"
      ]
     },
     "execution_count": 12,
     "metadata": {},
     "output_type": "execute_result"
    }
   ],
   "source": [
    "dt.datetime.today()"
   ]
  },
  {
   "cell_type": "markdown",
   "id": "a2863387",
   "metadata": {},
   "source": [
    "Pero lo que haremos en la automatización es dejar que la fecha sea el parámetro de la función para que nosotros podamos establecer la que queramos y con ello generar datos en, por ejemplo, todo un mes de ventas. Adicionalmente agregamos otro parámetro para establecer el número de ventas que queremos hacer en la fecha dada, recordemos que lo habíamos configurado en 1000 ventas, pero podemos meterle variabilidad mediante la función y el parámetro."
   ]
  },
  {
   "cell_type": "code",
   "execution_count": 13,
   "id": "f732d6e4",
   "metadata": {},
   "outputs": [],
   "source": [
    "def generar_df_ventas(fecha, n_ventas):\n",
    "  # ========================== Parte I ==========================\n",
    "  # Definicion de las listas\n",
    "  abcdario = [\n",
    "    'A', 'B', 'C', 'D', 'E', 'F', 'G', 'H', 'I', 'J',\n",
    "    'K', 'L', 'M', 'N', 'O', 'P', 'Q', 'R', 'S', 'T',\n",
    "    'U', 'V', 'W', 'X', 'Y', 'Z'\n",
    "    ]\n",
    "\n",
    "  papelerias = [\n",
    "    'Xochimilco', 'Cuemanco', 'Coapa', 'Milpa Alta',\n",
    "    'CU', 'Zócalo', 'Narvarte', 'Santa Fé', 'Polanco',\n",
    "    'Centro'\n",
    "    ]\n",
    "\n",
    "  lineas = [\n",
    "      'Cuadernos', 'Libretas', 'Lápices', 'Plumones', 'Borradores', 'Sacapuntas',\n",
    "      'Laptops', 'Tablets', 'Mochilas', 'Bolsas', 'Cajas', 'Pegamento', 'Tijeras',\n",
    "      'Monitores', 'Teclados', 'Mouse', 'Audífonos', 'Cables', 'Cargadores', 'Baterías',\n",
    "      'Pc', 'Uniformes', 'Pinturas', 'Pinceles', 'Papel', 'Cartulinas'\n",
    "      ]\n",
    "\n",
    "  # =========================== Parte II ==========================\n",
    "  # Definimos listas vacias que posteriormente iremos llenando\n",
    "  # con los datos de cada venta mediante la funcion append()\n",
    "  # y el bucle for\n",
    "\n",
    "  fechas = []\n",
    "  productos = []\n",
    "  claves = []\n",
    "  cantidades = []\n",
    "  precios = []\n",
    "  totales = []\n",
    "  sucursales = []\n",
    "\n",
    "  # ========================= Parte III ==========================\n",
    "  # Repetimos un bucle for 1000 veces, donde en cada iteracion\n",
    "  # o cada vuelta, agregamos un nuevo elemento a cada lista\n",
    "  for i in range(n_ventas):\n",
    "      # Zona de definicion de variables\n",
    "      producto = r.choice(lineas)\n",
    "      clave = r.choice(abcdario) + r.choice(abcdario) + r.choice(abcdario) + '-' + str(r.randint(1, 9)) + str(r.randint(1, 9)) + str(r.randint(1, 9)) \n",
    "      cantidad = r.randint(1, 50)\n",
    "      precio = round(r.randint(1, 10000) * r.random(), 2)\n",
    "      total = round(precio * cantidad, 2)\n",
    "      sucursal = r.choice(papelerias)\n",
    "\n",
    "      # Agregamos los datos a las listas\n",
    "      fechas.append(fecha)\n",
    "      productos.append(producto)\n",
    "      claves.append(clave)\n",
    "      cantidades.append(cantidad)\n",
    "      precios.append(precio)\n",
    "      totales.append(total)\n",
    "      sucursales.append(sucursal)\n",
    "\n",
    "  # ========================= Parte IV ==========================\n",
    "  # Definimos un diccionario donde las claves seran los nombres\n",
    "  # de las columnas y los valores seran las listas que llenamos\n",
    "  dict_pre_ventas = {\n",
    "      \"Fecha\": fechas,\n",
    "      \"Producto\": productos,\n",
    "      \"Clave\": claves,\n",
    "      \"Cantidad\": cantidades,\n",
    "      \"Precio\": precios,\n",
    "      \"Total\": totales,\n",
    "      \"Sucursal\": sucursales\n",
    "  }\n",
    "\n",
    "  # ========================== Parte V ==========================\n",
    "  # Creamos el dataframe con la funcion de pandas pd.DataFrame()\n",
    "  df_ventas = pd.DataFrame(dict_pre_ventas)\n",
    "  \n",
    "  # Retornamos el dataframe\n",
    "  return df_ventas"
   ]
  },
  {
   "cell_type": "code",
   "execution_count": 14,
   "id": "4ac0657c",
   "metadata": {},
   "outputs": [
    {
     "data": {
      "text/html": [
       "<div>\n",
       "<style scoped>\n",
       "    .dataframe tbody tr th:only-of-type {\n",
       "        vertical-align: middle;\n",
       "    }\n",
       "\n",
       "    .dataframe tbody tr th {\n",
       "        vertical-align: top;\n",
       "    }\n",
       "\n",
       "    .dataframe thead th {\n",
       "        text-align: right;\n",
       "    }\n",
       "</style>\n",
       "<table border=\"1\" class=\"dataframe\">\n",
       "  <thead>\n",
       "    <tr style=\"text-align: right;\">\n",
       "      <th></th>\n",
       "      <th>Fecha</th>\n",
       "      <th>Producto</th>\n",
       "      <th>Clave</th>\n",
       "      <th>Cantidad</th>\n",
       "      <th>Precio</th>\n",
       "      <th>Total</th>\n",
       "      <th>Sucursal</th>\n",
       "    </tr>\n",
       "  </thead>\n",
       "  <tbody>\n",
       "    <tr>\n",
       "      <th>0</th>\n",
       "      <td>2025-01-01</td>\n",
       "      <td>Cajas</td>\n",
       "      <td>SOG-733</td>\n",
       "      <td>12</td>\n",
       "      <td>367.22</td>\n",
       "      <td>4406.64</td>\n",
       "      <td>Narvarte</td>\n",
       "    </tr>\n",
       "    <tr>\n",
       "      <th>1</th>\n",
       "      <td>2025-01-01</td>\n",
       "      <td>Sacapuntas</td>\n",
       "      <td>JKE-211</td>\n",
       "      <td>10</td>\n",
       "      <td>3256.74</td>\n",
       "      <td>32567.40</td>\n",
       "      <td>Santa Fé</td>\n",
       "    </tr>\n",
       "    <tr>\n",
       "      <th>2</th>\n",
       "      <td>2025-01-01</td>\n",
       "      <td>Laptops</td>\n",
       "      <td>NMA-429</td>\n",
       "      <td>14</td>\n",
       "      <td>2006.52</td>\n",
       "      <td>28091.28</td>\n",
       "      <td>Zócalo</td>\n",
       "    </tr>\n",
       "    <tr>\n",
       "      <th>3</th>\n",
       "      <td>2025-01-01</td>\n",
       "      <td>Libretas</td>\n",
       "      <td>HCJ-521</td>\n",
       "      <td>18</td>\n",
       "      <td>396.45</td>\n",
       "      <td>7136.10</td>\n",
       "      <td>Polanco</td>\n",
       "    </tr>\n",
       "    <tr>\n",
       "      <th>4</th>\n",
       "      <td>2025-01-01</td>\n",
       "      <td>Tijeras</td>\n",
       "      <td>LQT-165</td>\n",
       "      <td>50</td>\n",
       "      <td>5834.63</td>\n",
       "      <td>291731.50</td>\n",
       "      <td>Centro</td>\n",
       "    </tr>\n",
       "    <tr>\n",
       "      <th>...</th>\n",
       "      <td>...</td>\n",
       "      <td>...</td>\n",
       "      <td>...</td>\n",
       "      <td>...</td>\n",
       "      <td>...</td>\n",
       "      <td>...</td>\n",
       "      <td>...</td>\n",
       "    </tr>\n",
       "    <tr>\n",
       "      <th>95</th>\n",
       "      <td>2025-01-01</td>\n",
       "      <td>Baterías</td>\n",
       "      <td>CAD-882</td>\n",
       "      <td>29</td>\n",
       "      <td>469.06</td>\n",
       "      <td>13602.74</td>\n",
       "      <td>Centro</td>\n",
       "    </tr>\n",
       "    <tr>\n",
       "      <th>96</th>\n",
       "      <td>2025-01-01</td>\n",
       "      <td>Cables</td>\n",
       "      <td>YKZ-773</td>\n",
       "      <td>25</td>\n",
       "      <td>3766.72</td>\n",
       "      <td>94168.00</td>\n",
       "      <td>Milpa Alta</td>\n",
       "    </tr>\n",
       "    <tr>\n",
       "      <th>97</th>\n",
       "      <td>2025-01-01</td>\n",
       "      <td>Cuadernos</td>\n",
       "      <td>JKK-518</td>\n",
       "      <td>50</td>\n",
       "      <td>7799.49</td>\n",
       "      <td>389974.50</td>\n",
       "      <td>Zócalo</td>\n",
       "    </tr>\n",
       "    <tr>\n",
       "      <th>98</th>\n",
       "      <td>2025-01-01</td>\n",
       "      <td>Tablets</td>\n",
       "      <td>DDP-128</td>\n",
       "      <td>26</td>\n",
       "      <td>1765.79</td>\n",
       "      <td>45910.54</td>\n",
       "      <td>Milpa Alta</td>\n",
       "    </tr>\n",
       "    <tr>\n",
       "      <th>99</th>\n",
       "      <td>2025-01-01</td>\n",
       "      <td>Mouse</td>\n",
       "      <td>ITX-363</td>\n",
       "      <td>24</td>\n",
       "      <td>1657.16</td>\n",
       "      <td>39771.84</td>\n",
       "      <td>Cuemanco</td>\n",
       "    </tr>\n",
       "  </tbody>\n",
       "</table>\n",
       "<p>100 rows × 7 columns</p>\n",
       "</div>"
      ],
      "text/plain": [
       "         Fecha    Producto    Clave  Cantidad   Precio      Total    Sucursal\n",
       "0   2025-01-01       Cajas  SOG-733        12   367.22    4406.64    Narvarte\n",
       "1   2025-01-01  Sacapuntas  JKE-211        10  3256.74   32567.40    Santa Fé\n",
       "2   2025-01-01     Laptops  NMA-429        14  2006.52   28091.28      Zócalo\n",
       "3   2025-01-01    Libretas  HCJ-521        18   396.45    7136.10     Polanco\n",
       "4   2025-01-01     Tijeras  LQT-165        50  5834.63  291731.50      Centro\n",
       "..         ...         ...      ...       ...      ...        ...         ...\n",
       "95  2025-01-01    Baterías  CAD-882        29   469.06   13602.74      Centro\n",
       "96  2025-01-01      Cables  YKZ-773        25  3766.72   94168.00  Milpa Alta\n",
       "97  2025-01-01   Cuadernos  JKK-518        50  7799.49  389974.50      Zócalo\n",
       "98  2025-01-01     Tablets  DDP-128        26  1765.79   45910.54  Milpa Alta\n",
       "99  2025-01-01       Mouse  ITX-363        24  1657.16   39771.84    Cuemanco\n",
       "\n",
       "[100 rows x 7 columns]"
      ]
     },
     "execution_count": 14,
     "metadata": {},
     "output_type": "execute_result"
    }
   ],
   "source": [
    "# Pongamos a prueba la funcion\n",
    "df = generar_df_ventas(\"2025-01-01\", 100)\n",
    "df"
   ]
  },
  {
   "cell_type": "markdown",
   "id": "721c4387",
   "metadata": {},
   "source": [
    "Con lo hecho anteriormente tenemos toda la librertad de generar info de ventas de cualquier día o "
   ]
  }
 ],
 "metadata": {
  "kernelspec": {
   "display_name": "Python 3",
   "language": "python",
   "name": "python3"
  },
  "language_info": {
   "codemirror_mode": {
    "name": "ipython",
    "version": 3
   },
   "file_extension": ".py",
   "mimetype": "text/x-python",
   "name": "python",
   "nbconvert_exporter": "python",
   "pygments_lexer": "ipython3",
   "version": "3.12.1"
  }
 },
 "nbformat": 4,
 "nbformat_minor": 5
}
