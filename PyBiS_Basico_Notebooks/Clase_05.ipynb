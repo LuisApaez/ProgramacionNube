{
 "cells": [
  {
   "cell_type": "markdown",
   "id": "5d26af88",
   "metadata": {},
   "source": [
    "# 💥 Primeros pasos con ``Python`` y ``SQL`` 💥\n",
    "\n",
    "|| <a style=\"background-color: #1bf8ff; color: #000000; border: none; padding: 10px 15px; border-radius: 5px;\">27 de Mayo del 2025</a> ||\n",
    "<a style=\"background-color: #1bf8ff; color: #000000; border: none; padding: 10px 15px; border-radius: 5px;\">Clase 4</a> ||\n",
    "<a style=\"background-color: #1bf8ff; color: #000000; border: none; padding: 10px 15px; border-radius: 5px;\">Cursos PyM</a> ||\n",
    "<a style=\"background-color: #1bf8ff; color: #000000; border: none; padding: 10px 15px; border-radius: 5px;\">Luis Fernando Apáez Álvarez</a> ||\n",
    "\n",
    "## 🪗Acordeón de clase🪗\n",
    "\n",
    "En esta clase abordaremos más temas sobre ``SQL`` y Pandas, concentrándonos así en fomentar la habilidad para trabajar con datos, para plantear y responder preguntas, y, finalmente, para manipular y analizar información.\n",
    "\n",
    "\n",
    "**Objetivo de clase:** Responder la pregunta _¿Qué sucursal vendió más en Enero?_ y aprender a realizar un análisis exploratorio con Pandas.\n",
    "\n",
    "Para lograrlo aprenderemos:\n",
    "\n",
    "&nbsp; &nbsp; <a style=\"background-color:rgb(213, 255, 27); color: #000000; border: none; padding: 10px 15px; border-radius: 5px;\">Programar en Github</a> &nbsp; &nbsp; \n",
    "<a style=\"background-color:rgb(213, 255, 27); color: #000000; border: none; padding: 10px 15px; border-radius: 5px;\">Sentencias SQL</a> &nbsp; &nbsp; <a style=\"background-color:rgb(213, 255, 27); color: #000000; border: none; padding: 10px 15px; border-radius: 5px;\">Funciones en SQL</a> &nbsp; &nbsp; <a style=\"background-color:rgb(213, 255, 27); color: #000000; border: none; padding: 10px 15px; border-radius: 5px;\">Fetch (one, all, many)</a> <a style=\"background-color:rgb(213, 255, 27); color: #000000; border: none; padding: 10px 15px; border-radius: 5px;\">+Pandas</a>"
   ]
  },
  {
   "cell_type": "markdown",
   "id": "f2efebf2",
   "metadata": {},
   "source": [
    "En la clase anterior conseguimos realizar la automatización del código de nuestro proyecto, además, comenzamos esta clase subiendo nuestro proyecto a github, así como una exploración en los _codespaces_ que nos permiten programar en la nube.\n",
    "\n",
    "Comenzaremos esta clase abordando más temas sobre consultas en ``SQL``."
   ]
  },
  {
   "cell_type": "code",
   "execution_count": 25,
   "id": "69226292",
   "metadata": {},
   "outputs": [],
   "source": [
    "# Realizamos la importacion de las librerias y definimos una \n",
    "# funcion para hacer consultas de manera más limpia\n",
    "import sqlite3 as sql\n",
    "import pandas as pd\n",
    "\n",
    "def consulta(query):\n",
    "    \"\"\"\n",
    "    Realiza una consulta a la base de datos y devuelve un DataFrame.\n",
    "    \n",
    "    :param query: Consulta SQL a ejecutar.\n",
    "    :return: DataFrame con los resultados de la consulta.\n",
    "    \"\"\"\n",
    "    # Nos conectamos a la base de datos\n",
    "    con = sql.connect('ventas.db')\n",
    "    # Usando pandas, ejecutamos la consulta y guardamos el resultado en un DataFrame\n",
    "    consulta = pd.read_sql_query(query, con)\n",
    "    # Cerramos la conexión\n",
    "    con.close()\n",
    "    return consulta"
   ]
  },
  {
   "cell_type": "markdown",
   "id": "aed83624",
   "metadata": {},
   "source": [
    "**1. Instrucción DISTINCT**\n",
    "\n",
    "Nos permite ver los valores únicos de una columna, la utilizaremos para ver las fechas que están cargadas en nuestra tabla:"
   ]
  },
  {
   "cell_type": "code",
   "execution_count": 3,
   "id": "c49b40e5",
   "metadata": {},
   "outputs": [
    {
     "data": {
      "text/html": [
       "<div>\n",
       "<style scoped>\n",
       "    .dataframe tbody tr th:only-of-type {\n",
       "        vertical-align: middle;\n",
       "    }\n",
       "\n",
       "    .dataframe tbody tr th {\n",
       "        vertical-align: top;\n",
       "    }\n",
       "\n",
       "    .dataframe thead th {\n",
       "        text-align: right;\n",
       "    }\n",
       "</style>\n",
       "<table border=\"1\" class=\"dataframe\">\n",
       "  <thead>\n",
       "    <tr style=\"text-align: right;\">\n",
       "      <th></th>\n",
       "      <th>Fecha</th>\n",
       "    </tr>\n",
       "  </thead>\n",
       "  <tbody>\n",
       "    <tr>\n",
       "      <th>0</th>\n",
       "      <td>2025-01-02</td>\n",
       "    </tr>\n",
       "    <tr>\n",
       "      <th>1</th>\n",
       "      <td>2025-01-03</td>\n",
       "    </tr>\n",
       "    <tr>\n",
       "      <th>2</th>\n",
       "      <td>2025-01-01</td>\n",
       "    </tr>\n",
       "    <tr>\n",
       "      <th>3</th>\n",
       "      <td>2025-01-04</td>\n",
       "    </tr>\n",
       "    <tr>\n",
       "      <th>4</th>\n",
       "      <td>2025-01-05</td>\n",
       "    </tr>\n",
       "    <tr>\n",
       "      <th>5</th>\n",
       "      <td>2025-01-06</td>\n",
       "    </tr>\n",
       "    <tr>\n",
       "      <th>6</th>\n",
       "      <td>2025-01-07</td>\n",
       "    </tr>\n",
       "    <tr>\n",
       "      <th>7</th>\n",
       "      <td>2025-01-08</td>\n",
       "    </tr>\n",
       "    <tr>\n",
       "      <th>8</th>\n",
       "      <td>2025-01-09</td>\n",
       "    </tr>\n",
       "    <tr>\n",
       "      <th>9</th>\n",
       "      <td>2025-01-10</td>\n",
       "    </tr>\n",
       "    <tr>\n",
       "      <th>10</th>\n",
       "      <td>2025-01-11</td>\n",
       "    </tr>\n",
       "    <tr>\n",
       "      <th>11</th>\n",
       "      <td>2025-01-12</td>\n",
       "    </tr>\n",
       "    <tr>\n",
       "      <th>12</th>\n",
       "      <td>2025-01-13</td>\n",
       "    </tr>\n",
       "    <tr>\n",
       "      <th>13</th>\n",
       "      <td>2025-01-14</td>\n",
       "    </tr>\n",
       "    <tr>\n",
       "      <th>14</th>\n",
       "      <td>2025-01-15</td>\n",
       "    </tr>\n",
       "    <tr>\n",
       "      <th>15</th>\n",
       "      <td>2025-01-16</td>\n",
       "    </tr>\n",
       "    <tr>\n",
       "      <th>16</th>\n",
       "      <td>2025-01-17</td>\n",
       "    </tr>\n",
       "    <tr>\n",
       "      <th>17</th>\n",
       "      <td>2025-01-18</td>\n",
       "    </tr>\n",
       "    <tr>\n",
       "      <th>18</th>\n",
       "      <td>2025-01-19</td>\n",
       "    </tr>\n",
       "    <tr>\n",
       "      <th>19</th>\n",
       "      <td>2025-01-20</td>\n",
       "    </tr>\n",
       "    <tr>\n",
       "      <th>20</th>\n",
       "      <td>2025-01-21</td>\n",
       "    </tr>\n",
       "    <tr>\n",
       "      <th>21</th>\n",
       "      <td>2025-01-22</td>\n",
       "    </tr>\n",
       "    <tr>\n",
       "      <th>22</th>\n",
       "      <td>2025-01-23</td>\n",
       "    </tr>\n",
       "    <tr>\n",
       "      <th>23</th>\n",
       "      <td>2025-01-24</td>\n",
       "    </tr>\n",
       "    <tr>\n",
       "      <th>24</th>\n",
       "      <td>2025-01-25</td>\n",
       "    </tr>\n",
       "    <tr>\n",
       "      <th>25</th>\n",
       "      <td>2025-01-26</td>\n",
       "    </tr>\n",
       "    <tr>\n",
       "      <th>26</th>\n",
       "      <td>2025-01-27</td>\n",
       "    </tr>\n",
       "    <tr>\n",
       "      <th>27</th>\n",
       "      <td>2025-01-28</td>\n",
       "    </tr>\n",
       "    <tr>\n",
       "      <th>28</th>\n",
       "      <td>2025-01-29</td>\n",
       "    </tr>\n",
       "    <tr>\n",
       "      <th>29</th>\n",
       "      <td>2025-01-30</td>\n",
       "    </tr>\n",
       "    <tr>\n",
       "      <th>30</th>\n",
       "      <td>2025-01-31</td>\n",
       "    </tr>\n",
       "  </tbody>\n",
       "</table>\n",
       "</div>"
      ],
      "text/plain": [
       "         Fecha\n",
       "0   2025-01-02\n",
       "1   2025-01-03\n",
       "2   2025-01-01\n",
       "3   2025-01-04\n",
       "4   2025-01-05\n",
       "5   2025-01-06\n",
       "6   2025-01-07\n",
       "7   2025-01-08\n",
       "8   2025-01-09\n",
       "9   2025-01-10\n",
       "10  2025-01-11\n",
       "11  2025-01-12\n",
       "12  2025-01-13\n",
       "13  2025-01-14\n",
       "14  2025-01-15\n",
       "15  2025-01-16\n",
       "16  2025-01-17\n",
       "17  2025-01-18\n",
       "18  2025-01-19\n",
       "19  2025-01-20\n",
       "20  2025-01-21\n",
       "21  2025-01-22\n",
       "22  2025-01-23\n",
       "23  2025-01-24\n",
       "24  2025-01-25\n",
       "25  2025-01-26\n",
       "26  2025-01-27\n",
       "27  2025-01-28\n",
       "28  2025-01-29\n",
       "29  2025-01-30\n",
       "30  2025-01-31"
      ]
     },
     "execution_count": 3,
     "metadata": {},
     "output_type": "execute_result"
    }
   ],
   "source": [
    "query = \"\"\"\n",
    "SELECT \n",
    "    DISTINCT Fecha\n",
    "FROM\n",
    "    ventas\n",
    "\"\"\"\n",
    "\n",
    "# Ejecutamos la consulta y guardamos el resultado en un DataFrame\n",
    "consulta(query)"
   ]
  },
  {
   "cell_type": "markdown",
   "id": "6a1abb8c",
   "metadata": {},
   "source": [
    "Con lo cual vemos que tenemos cargada la información de todo enero. Esta instrucción es muy útil cuando quieres ver todas las categorías o valores únicos e una columna de interés.\n",
    "\n",
    "**2. Recordatorio de filtros con WHERE**\n",
    "\n",
    "Para recordar cómo hacer filtros, intentemos responder la siguiente pregunta:\n",
    "\n",
    "¿Cuál fue el producto más caro vendido en la sucursa _Xochimilco_?"
   ]
  },
  {
   "cell_type": "code",
   "execution_count": 4,
   "id": "0838a1a2",
   "metadata": {},
   "outputs": [
    {
     "data": {
      "text/html": [
       "<div>\n",
       "<style scoped>\n",
       "    .dataframe tbody tr th:only-of-type {\n",
       "        vertical-align: middle;\n",
       "    }\n",
       "\n",
       "    .dataframe tbody tr th {\n",
       "        vertical-align: top;\n",
       "    }\n",
       "\n",
       "    .dataframe thead th {\n",
       "        text-align: right;\n",
       "    }\n",
       "</style>\n",
       "<table border=\"1\" class=\"dataframe\">\n",
       "  <thead>\n",
       "    <tr style=\"text-align: right;\">\n",
       "      <th></th>\n",
       "      <th>Fecha</th>\n",
       "      <th>Producto</th>\n",
       "      <th>Clave</th>\n",
       "      <th>Cantidad</th>\n",
       "      <th>Precio</th>\n",
       "      <th>Total</th>\n",
       "      <th>Sucursal</th>\n",
       "    </tr>\n",
       "  </thead>\n",
       "  <tbody>\n",
       "    <tr>\n",
       "      <th>0</th>\n",
       "      <td>2025-01-02</td>\n",
       "      <td>Cables</td>\n",
       "      <td>QJS-121</td>\n",
       "      <td>44</td>\n",
       "      <td>1250.85</td>\n",
       "      <td>55037.40</td>\n",
       "      <td>Xochimilco</td>\n",
       "    </tr>\n",
       "    <tr>\n",
       "      <th>1</th>\n",
       "      <td>2025-01-02</td>\n",
       "      <td>Libretas</td>\n",
       "      <td>TDU-168</td>\n",
       "      <td>29</td>\n",
       "      <td>33.37</td>\n",
       "      <td>967.73</td>\n",
       "      <td>Xochimilco</td>\n",
       "    </tr>\n",
       "    <tr>\n",
       "      <th>2</th>\n",
       "      <td>2025-01-02</td>\n",
       "      <td>Tablets</td>\n",
       "      <td>NRQ-338</td>\n",
       "      <td>26</td>\n",
       "      <td>3106.42</td>\n",
       "      <td>80766.92</td>\n",
       "      <td>Xochimilco</td>\n",
       "    </tr>\n",
       "    <tr>\n",
       "      <th>3</th>\n",
       "      <td>2025-01-02</td>\n",
       "      <td>Sacapuntas</td>\n",
       "      <td>PPO-765</td>\n",
       "      <td>49</td>\n",
       "      <td>2868.10</td>\n",
       "      <td>140536.90</td>\n",
       "      <td>Xochimilco</td>\n",
       "    </tr>\n",
       "    <tr>\n",
       "      <th>4</th>\n",
       "      <td>2025-01-02</td>\n",
       "      <td>Borradores</td>\n",
       "      <td>USU-861</td>\n",
       "      <td>14</td>\n",
       "      <td>1035.29</td>\n",
       "      <td>14494.06</td>\n",
       "      <td>Xochimilco</td>\n",
       "    </tr>\n",
       "    <tr>\n",
       "      <th>5</th>\n",
       "      <td>2025-01-02</td>\n",
       "      <td>Cartulinas</td>\n",
       "      <td>CZS-779</td>\n",
       "      <td>10</td>\n",
       "      <td>106.93</td>\n",
       "      <td>1069.30</td>\n",
       "      <td>Xochimilco</td>\n",
       "    </tr>\n",
       "    <tr>\n",
       "      <th>6</th>\n",
       "      <td>2025-01-02</td>\n",
       "      <td>Cajas</td>\n",
       "      <td>VNM-315</td>\n",
       "      <td>29</td>\n",
       "      <td>3951.11</td>\n",
       "      <td>114582.19</td>\n",
       "      <td>Xochimilco</td>\n",
       "    </tr>\n",
       "    <tr>\n",
       "      <th>7</th>\n",
       "      <td>2025-01-02</td>\n",
       "      <td>Pinturas</td>\n",
       "      <td>QND-987</td>\n",
       "      <td>29</td>\n",
       "      <td>5742.10</td>\n",
       "      <td>166520.90</td>\n",
       "      <td>Xochimilco</td>\n",
       "    </tr>\n",
       "    <tr>\n",
       "      <th>8</th>\n",
       "      <td>2025-01-02</td>\n",
       "      <td>Monitores</td>\n",
       "      <td>MUO-291</td>\n",
       "      <td>39</td>\n",
       "      <td>134.45</td>\n",
       "      <td>5243.55</td>\n",
       "      <td>Xochimilco</td>\n",
       "    </tr>\n",
       "    <tr>\n",
       "      <th>9</th>\n",
       "      <td>2025-01-02</td>\n",
       "      <td>Cargadores</td>\n",
       "      <td>ADS-695</td>\n",
       "      <td>24</td>\n",
       "      <td>910.89</td>\n",
       "      <td>21861.36</td>\n",
       "      <td>Xochimilco</td>\n",
       "    </tr>\n",
       "  </tbody>\n",
       "</table>\n",
       "</div>"
      ],
      "text/plain": [
       "        Fecha    Producto    Clave  Cantidad   Precio      Total    Sucursal\n",
       "0  2025-01-02      Cables  QJS-121        44  1250.85   55037.40  Xochimilco\n",
       "1  2025-01-02    Libretas  TDU-168        29    33.37     967.73  Xochimilco\n",
       "2  2025-01-02     Tablets  NRQ-338        26  3106.42   80766.92  Xochimilco\n",
       "3  2025-01-02  Sacapuntas  PPO-765        49  2868.10  140536.90  Xochimilco\n",
       "4  2025-01-02  Borradores  USU-861        14  1035.29   14494.06  Xochimilco\n",
       "5  2025-01-02  Cartulinas  CZS-779        10   106.93    1069.30  Xochimilco\n",
       "6  2025-01-02       Cajas  VNM-315        29  3951.11  114582.19  Xochimilco\n",
       "7  2025-01-02    Pinturas  QND-987        29  5742.10  166520.90  Xochimilco\n",
       "8  2025-01-02   Monitores  MUO-291        39   134.45    5243.55  Xochimilco\n",
       "9  2025-01-02  Cargadores  ADS-695        24   910.89   21861.36  Xochimilco"
      ]
     },
     "execution_count": 4,
     "metadata": {},
     "output_type": "execute_result"
    }
   ],
   "source": [
    "# Primero filtramos a la sucursal de interes\n",
    "query = \"\"\"\n",
    "--- La siguiente consulta se traduce al español como:\n",
    "--- Selecciona todas las columnas de la tabla ventas\n",
    "--- donde la sucursal es 'Xochimilco'\n",
    "SELECT\n",
    "    *\n",
    "FROM\n",
    "    ventas\n",
    "WHERE\n",
    "    Sucursal = 'Xochimilco'\n",
    "\"\"\"\n",
    "\n",
    "consulta(query).head(10)"
   ]
  },
  {
   "cell_type": "code",
   "execution_count": 6,
   "id": "34facdc8",
   "metadata": {},
   "outputs": [
    {
     "data": {
      "text/html": [
       "<div>\n",
       "<style scoped>\n",
       "    .dataframe tbody tr th:only-of-type {\n",
       "        vertical-align: middle;\n",
       "    }\n",
       "\n",
       "    .dataframe tbody tr th {\n",
       "        vertical-align: top;\n",
       "    }\n",
       "\n",
       "    .dataframe thead th {\n",
       "        text-align: right;\n",
       "    }\n",
       "</style>\n",
       "<table border=\"1\" class=\"dataframe\">\n",
       "  <thead>\n",
       "    <tr style=\"text-align: right;\">\n",
       "      <th></th>\n",
       "      <th>Fecha</th>\n",
       "      <th>Producto</th>\n",
       "      <th>Precio</th>\n",
       "    </tr>\n",
       "  </thead>\n",
       "  <tbody>\n",
       "    <tr>\n",
       "      <th>0</th>\n",
       "      <td>2025-01-14</td>\n",
       "      <td>Pinturas</td>\n",
       "      <td>9627.94</td>\n",
       "    </tr>\n",
       "  </tbody>\n",
       "</table>\n",
       "</div>"
      ],
      "text/plain": [
       "        Fecha  Producto   Precio\n",
       "0  2025-01-14  Pinturas  9627.94"
      ]
     },
     "execution_count": 6,
     "metadata": {},
     "output_type": "execute_result"
    }
   ],
   "source": [
    "# Tomando como base el query anterior, ahora solo basta con ordenar\n",
    "# de mayor a menor por medio de la columna precio\n",
    "# y hacemos un limit 1\n",
    "query = \"\"\"\n",
    "SELECT\n",
    "    --- Solo querremos ver algunas columnas informativas\n",
    "    --- de acuerdo con la pregunta\n",
    "    Fecha,\n",
    "    Producto,\n",
    "    Precio\n",
    "FROM\n",
    "    ventas\n",
    "WHERE\n",
    "    Sucursal = 'Xochimilco'\n",
    "ORDER BY\n",
    "    Precio DESC\n",
    "LIMIT 1\n",
    "\"\"\"\n",
    "\n",
    "consulta(query).head(10)"
   ]
  },
  {
   "cell_type": "markdown",
   "id": "18edfa12",
   "metadata": {},
   "source": [
    "**3. Instrucción GROUP BY**\n",
    "\n",
    "Imagina que nos solicitan obtener el total de ventas en el mes para cada una de las sucursales. Con base en el conocimiento que poseemos, más un plus, podemos obtener:"
   ]
  },
  {
   "cell_type": "code",
   "execution_count": 9,
   "id": "8ccf13d2",
   "metadata": {},
   "outputs": [
    {
     "data": {
      "text/html": [
       "<div>\n",
       "<style scoped>\n",
       "    .dataframe tbody tr th:only-of-type {\n",
       "        vertical-align: middle;\n",
       "    }\n",
       "\n",
       "    .dataframe tbody tr th {\n",
       "        vertical-align: top;\n",
       "    }\n",
       "\n",
       "    .dataframe thead th {\n",
       "        text-align: right;\n",
       "    }\n",
       "</style>\n",
       "<table border=\"1\" class=\"dataframe\">\n",
       "  <thead>\n",
       "    <tr style=\"text-align: right;\">\n",
       "      <th></th>\n",
       "      <th>Total_Ventas</th>\n",
       "    </tr>\n",
       "  </thead>\n",
       "  <tbody>\n",
       "    <tr>\n",
       "      <th>0</th>\n",
       "      <td>2.133044e+08</td>\n",
       "    </tr>\n",
       "  </tbody>\n",
       "</table>\n",
       "</div>"
      ],
      "text/plain": [
       "   Total_Ventas\n",
       "0  2.133044e+08"
      ]
     },
     "execution_count": 9,
     "metadata": {},
     "output_type": "execute_result"
    }
   ],
   "source": [
    "# Dentro de SQL tenemos funciones de agregación\n",
    "# como SUM, COUNT, AVG, MIN, MAX, etc.\n",
    "query = \"\"\"\n",
    "SELECT\n",
    "    --- Podemos darles alias a las columnas\n",
    "    SUM(Total) AS Total_Ventas\n",
    "FROM\n",
    "    ventas\n",
    "WHERE\n",
    "    Sucursal = 'Xochimilco'\n",
    "\"\"\"\n",
    "\n",
    "consulta(query)"
   ]
  },
  {
   "cell_type": "markdown",
   "id": "05f95e00",
   "metadata": {},
   "source": [
    "Aprovechando que el valor obtenido está en notación científica, tenemos \n",
    "\n",
    "**3.1 Instrucción CAST**\n",
    "\n",
    "Nos permite convertir valores a un tipo de dato de interés, por ejemplo, en el código anterior tenemos que la consulta nos arroja un valor en notación científica, y nos gustaría que se viera como un número entero para mejor legibilidad, de tal suerte tenemos"
   ]
  },
  {
   "cell_type": "code",
   "execution_count": null,
   "id": "cd2921b4",
   "metadata": {},
   "outputs": [
    {
     "data": {
      "text/html": [
       "<div>\n",
       "<style scoped>\n",
       "    .dataframe tbody tr th:only-of-type {\n",
       "        vertical-align: middle;\n",
       "    }\n",
       "\n",
       "    .dataframe tbody tr th {\n",
       "        vertical-align: top;\n",
       "    }\n",
       "\n",
       "    .dataframe thead th {\n",
       "        text-align: right;\n",
       "    }\n",
       "</style>\n",
       "<table border=\"1\" class=\"dataframe\">\n",
       "  <thead>\n",
       "    <tr style=\"text-align: right;\">\n",
       "      <th></th>\n",
       "      <th>Total_Ventas</th>\n",
       "    </tr>\n",
       "  </thead>\n",
       "  <tbody>\n",
       "    <tr>\n",
       "      <th>0</th>\n",
       "      <td>213304417</td>\n",
       "    </tr>\n",
       "  </tbody>\n",
       "</table>\n",
       "</div>"
      ],
      "text/plain": [
       "   Total_Ventas\n",
       "0     213304417"
      ]
     },
     "execution_count": 10,
     "metadata": {},
     "output_type": "execute_result"
    }
   ],
   "source": [
    "\n",
    "query = \"\"\"\n",
    "SELECT\n",
    "    --- CAST(valor AS tipo) convierte un valor a un tipo específico\n",
    "    CAST(SUM(Total) AS INTEGER) AS Total_Ventas\n",
    "FROM\n",
    "    ventas\n",
    "WHERE\n",
    "    Sucursal = 'Xochimilco'\n",
    "\"\"\"\n",
    "\n",
    "consulta(query)"
   ]
  },
  {
   "cell_type": "markdown",
   "id": "90acdfd2",
   "metadata": {},
   "source": [
    "Por otro lado, qué tal si separamos esa cifra por miles. Antes de ver cómo hacerlo en SQL, veamos que en Python tenemos lo siguiente:"
   ]
  },
  {
   "cell_type": "code",
   "execution_count": 15,
   "id": "fe9ff965",
   "metadata": {},
   "outputs": [
    {
     "data": {
      "text/plain": [
       "'1,000'"
      ]
     },
     "execution_count": 15,
     "metadata": {},
     "output_type": "execute_result"
    }
   ],
   "source": [
    "cifra = 1000\n",
    "\n",
    "# Separamo en miles la cifra anterior\n",
    "\"{:,}\".format(cifra)"
   ]
  },
  {
   "cell_type": "markdown",
   "id": "c119cad5",
   "metadata": {},
   "source": [
    "de donde:\n",
    "\n",
    "* ``{:,}`` es una cadena de formato donde : indica que se usará un formato especial y , especifica que se deben usar comas para separar los miles.\n",
    "* ``.format(cifra)`` reemplaza ``{:,}`` por el valor de cifra ya formateado.\n",
    "\n",
    "Por lo cual podríamos hacer una función:"
   ]
  },
  {
   "cell_type": "code",
   "execution_count": 19,
   "id": "d0c13172",
   "metadata": {},
   "outputs": [
    {
     "name": "stdout",
     "output_type": "stream",
     "text": [
      "1,234,567\n"
     ]
    }
   ],
   "source": [
    "def formato_miles(n):\n",
    "    \"\"\"\n",
    "    Formatea un número entero a una cadena con separadores de miles.\n",
    "    :param n: Número entero a formatear.\n",
    "    :return: Cadena con el número formateado.\n",
    "    \"\"\"\n",
    "    return \"{:,}\".format(n)\n",
    "\n",
    "# Probamos la función con un número\n",
    "resultado = formato_miles(1234567)\n",
    "print(resultado)"
   ]
  },
  {
   "cell_type": "markdown",
   "id": "78de4ad0",
   "metadata": {},
   "source": [
    "En SQLITE no existe una función directamente que nos permite separa por miles, como si existe en otros manejadores como postgreSQL o MySQL, pero . . . ¿qué tal si subimos la función que definimos en Python a SQLITE?"
   ]
  },
  {
   "cell_type": "markdown",
   "id": "bee4d965",
   "metadata": {},
   "source": [
    "**3.2 Subir funciones de ``Python`` a ``SQLITE3``**"
   ]
  },
  {
   "cell_type": "code",
   "execution_count": null,
   "id": "1565ab7d",
   "metadata": {},
   "outputs": [
    {
     "name": "stdout",
     "output_type": "stream",
     "text": [
      "213,304,417\n"
     ]
    }
   ],
   "source": [
    "# Conexión y registro de la función\n",
    "conn = sql.connect('ventas.db')\n",
    "conn.create_function(\"formato_miles\", 1, formato_miles)\n",
    "\n",
    "# Ejecutar la consulta\n",
    "cursor = conn.cursor()\n",
    "query = \"\"\"\n",
    "SELECT\n",
    "    formato_miles(CAST(SUM(Total) AS INTEGER)) AS Total_Ventas\n",
    "FROM\n",
    "    ventas\n",
    "WHERE\n",
    "    Sucursal = 'Xochimilco'\n",
    "\"\"\"\n",
    "\n",
    "consulta_s = cursor.execute(query).fetchone()\n",
    "conn.close()\n",
    "\n",
    "print(consulta_s[0])"
   ]
  },
  {
   "cell_type": "markdown",
   "id": "0fb8a139",
   "metadata": {},
   "source": [
    "Cabe mencionar que no podemos utilizar funciones definidas por nosotros con la función de pandas ``pd.read_sql_query()``, por ello usamos una forma alternativa. La forma que presentamos nos permite hacer consultas, veamos otro ejemplo"
   ]
  },
  {
   "cell_type": "code",
   "execution_count": null,
   "id": "1659decb",
   "metadata": {},
   "outputs": [
    {
     "name": "stdout",
     "output_type": "stream",
     "text": [
      "[('2025-01-02', 'Pc', 'EQV-772', 34, 883.16, 30027.44, 'Zócalo'), ('2025-01-02', 'Pc', 'VLQ-162', 6, 156.74, 940.44, 'Coapa'), ('2025-01-02', 'Plumones', 'BRF-523', 19, 8244.5, 156645.5, 'Narvarte'), ('2025-01-02', 'Cartulinas', 'LKI-773', 41, 738.7, 30286.7, 'Coapa'), ('2025-01-02', 'Uniformes', 'MHV-384', 10, 157.42, 1574.2, 'Cuemanco')]\n"
     ]
    }
   ],
   "source": [
    "# Nos concectamos a la base de datos y definimos el puente\n",
    "conn = sql.connect('ventas.db')\n",
    "cursor = conn.cursor()\n",
    "\n",
    "# Definimos la consulta\n",
    "query = \"\"\"\n",
    "SELECT\n",
    "    *\n",
    "FROM\n",
    "    ventas\n",
    "\"\"\"\n",
    "\n",
    "# ejecutamos la consulta y:\n",
    "# fetchone(): trae una sola fila\n",
    "# fetchall(): trae todas las filas\n",
    "# fetchmany(n): trae n filas\n",
    "\n",
    "# al ejecutar la consulta el resultado es una lista de tuplas, donde cada\n",
    "# tupla representa una fila de la tabla ventas\n",
    "consulta_s = cursor.execute(query).fetchmany(5)\n",
    "conn.close()\n",
    "\n",
    "print(consulta_s)"
   ]
  },
  {
   "cell_type": "markdown",
   "id": "e19c803f",
   "metadata": {},
   "source": [
    "Como la salida no está \"bonita\", por eso solemos preferir ``Pandas``.\n",
    "\n",
    "Continuando, recordemos que queremos obtener el total de ventas de cada una de las sucursales, pero si usamos el proceso que seguimos antes, tendríamos que repetirlo para cada una de las sucursales, la solución es utilizar la instrucción ``GROUP BY``, de donde \n",
    "\n",
    "* Se  usa para agrupar filas que tienen valores iguales en una o más columnas. Luego, sobre esos grupos, puedes aplicar funciones como:\n",
    "\n",
    "1. ``SUM()`` → sumar\n",
    "\n",
    "2. ``AVG()`` → promedio\n",
    "\n",
    "3. ``COUNT()`` → contar\n",
    "\n",
    "4. ``MAX()`` / ``MIN()`` → máximo y mínimo\n",
    "\n",
    "* Si tienes muchas filas con datos repetidos (por ejemplo, ventas por sucursal), puedes agruparlas para resumir o analizar la información.\n",
    "\n",
    "* Se recomienda que cada que utilicemos ``GROUP BY`` le asociemos una función de agregación.\n",
    "\n",
    "De tal suerte:"
   ]
  },
  {
   "cell_type": "code",
   "execution_count": null,
   "id": "01de0c3d",
   "metadata": {},
   "outputs": [
    {
     "data": {
      "text/html": [
       "<div>\n",
       "<style scoped>\n",
       "    .dataframe tbody tr th:only-of-type {\n",
       "        vertical-align: middle;\n",
       "    }\n",
       "\n",
       "    .dataframe tbody tr th {\n",
       "        vertical-align: top;\n",
       "    }\n",
       "\n",
       "    .dataframe thead th {\n",
       "        text-align: right;\n",
       "    }\n",
       "</style>\n",
       "<table border=\"1\" class=\"dataframe\">\n",
       "  <thead>\n",
       "    <tr style=\"text-align: right;\">\n",
       "      <th></th>\n",
       "      <th>Sucursal</th>\n",
       "      <th>Total_Ventas</th>\n",
       "    </tr>\n",
       "  </thead>\n",
       "  <tbody>\n",
       "    <tr>\n",
       "      <th>0</th>\n",
       "      <td>CU</td>\n",
       "      <td>207403166</td>\n",
       "    </tr>\n",
       "    <tr>\n",
       "      <th>1</th>\n",
       "      <td>Centro</td>\n",
       "      <td>203927250</td>\n",
       "    </tr>\n",
       "    <tr>\n",
       "      <th>2</th>\n",
       "      <td>Coapa</td>\n",
       "      <td>205144587</td>\n",
       "    </tr>\n",
       "    <tr>\n",
       "      <th>3</th>\n",
       "      <td>Cuemanco</td>\n",
       "      <td>213399830</td>\n",
       "    </tr>\n",
       "    <tr>\n",
       "      <th>4</th>\n",
       "      <td>Milpa Alta</td>\n",
       "      <td>200884067</td>\n",
       "    </tr>\n",
       "    <tr>\n",
       "      <th>5</th>\n",
       "      <td>Narvarte</td>\n",
       "      <td>212216013</td>\n",
       "    </tr>\n",
       "    <tr>\n",
       "      <th>6</th>\n",
       "      <td>Polanco</td>\n",
       "      <td>218741476</td>\n",
       "    </tr>\n",
       "    <tr>\n",
       "      <th>7</th>\n",
       "      <td>Santa Fé</td>\n",
       "      <td>217124096</td>\n",
       "    </tr>\n",
       "    <tr>\n",
       "      <th>8</th>\n",
       "      <td>Xochimilco</td>\n",
       "      <td>213304417</td>\n",
       "    </tr>\n",
       "    <tr>\n",
       "      <th>9</th>\n",
       "      <td>Zócalo</td>\n",
       "      <td>196974246</td>\n",
       "    </tr>\n",
       "  </tbody>\n",
       "</table>\n",
       "</div>"
      ],
      "text/plain": [
       "     Sucursal  Total_Ventas\n",
       "0          CU     207403166\n",
       "1      Centro     203927250\n",
       "2       Coapa     205144587\n",
       "3    Cuemanco     213399830\n",
       "4  Milpa Alta     200884067\n",
       "5    Narvarte     212216013\n",
       "6     Polanco     218741476\n",
       "7    Santa Fé     217124096\n",
       "8  Xochimilco     213304417\n",
       "9      Zócalo     196974246"
      ]
     },
     "execution_count": 26,
     "metadata": {},
     "output_type": "execute_result"
    }
   ],
   "source": [
    "# En español, la siguiente consulta se traduce como:\n",
    "# Selecciona la sucursal y la suma total de ventas, agrupando por sucursal\n",
    "\n",
    "query = \"\"\"\n",
    "SELECT\n",
    "    Sucursal,\n",
    "    CAST(SUM(Total) AS INTEGER) AS Total_Ventas\n",
    "FROM\n",
    "    ventas\n",
    "GROUP BY\n",
    "    Sucursal\n",
    "\"\"\"\n",
    "\n",
    "consulta(query)"
   ]
  },
  {
   "cell_type": "markdown",
   "id": "2cc15b3d",
   "metadata": {},
   "source": [
    "De una vez podríamos obtener la sucursal que más y menos vendió a lo largo del mes"
   ]
  },
  {
   "cell_type": "code",
   "execution_count": 27,
   "id": "b114d2b8",
   "metadata": {},
   "outputs": [
    {
     "data": {
      "text/html": [
       "<div>\n",
       "<style scoped>\n",
       "    .dataframe tbody tr th:only-of-type {\n",
       "        vertical-align: middle;\n",
       "    }\n",
       "\n",
       "    .dataframe tbody tr th {\n",
       "        vertical-align: top;\n",
       "    }\n",
       "\n",
       "    .dataframe thead th {\n",
       "        text-align: right;\n",
       "    }\n",
       "</style>\n",
       "<table border=\"1\" class=\"dataframe\">\n",
       "  <thead>\n",
       "    <tr style=\"text-align: right;\">\n",
       "      <th></th>\n",
       "      <th>Sucursal</th>\n",
       "      <th>Total_Ventas</th>\n",
       "    </tr>\n",
       "  </thead>\n",
       "  <tbody>\n",
       "    <tr>\n",
       "      <th>0</th>\n",
       "      <td>Polanco</td>\n",
       "      <td>218741476</td>\n",
       "    </tr>\n",
       "  </tbody>\n",
       "</table>\n",
       "</div>"
      ],
      "text/plain": [
       "  Sucursal  Total_Ventas\n",
       "0  Polanco     218741476"
      ]
     },
     "execution_count": 27,
     "metadata": {},
     "output_type": "execute_result"
    }
   ],
   "source": [
    "query = \"\"\"\n",
    "SELECT\n",
    "    Sucursal,\n",
    "    CAST(SUM(Total) AS INTEGER) AS Total_Ventas\n",
    "FROM\n",
    "    ventas\n",
    "GROUP BY\n",
    "    Sucursal\n",
    "ORDER BY\n",
    "    Total_Ventas DESC\n",
    "LIMIT 1\n",
    "\"\"\"\n",
    "\n",
    "consulta(query)"
   ]
  },
  {
   "cell_type": "markdown",
   "id": "15ede15d",
   "metadata": {},
   "source": [
    "**3.3 Orden de ejecución**\n",
    "\n",
    "Existe cierta jerarquía de EJECUCIÓN en nuestras sentencias, es decir, el orden que sigue ``SQL`` para ejeuctar nuestras sentencias.\n",
    "\n",
    "| Paso | Cláusula SQL     | ¿Qué hace?                                             |\n",
    "| ---- | ---------------- | ------------------------------------------------------ |\n",
    "| 1️⃣  | `FROM`           | Establece la(s) tabla(s) de donde se extraen los datos |\n",
    "| 2️⃣  | `JOIN`           | Une tablas (si hay más de una)                         |\n",
    "| 3️⃣  | `WHERE`          | Filtra filas según condiciones **antes de agrupar**    |\n",
    "| 4️⃣  | `GROUP BY`       | Agrupa filas que tienen valores iguales                |\n",
    "| 5️⃣  | `HAVING`         | Filtra **grupos** después del `GROUP BY`               |\n",
    "| 6️⃣  | `SELECT`         | Define qué columnas o cálculos mostrar                 |\n",
    "| 7️⃣  | `DISTINCT`       | Elimina duplicados del resultado final                 |\n",
    "| 8️⃣  | `ORDER BY`       | Ordena los resultados                                  |\n",
    "| 9️⃣  | `LIMIT / OFFSET` | Limita el número de resultados                         |\n"
   ]
  },
  {
   "cell_type": "markdown",
   "id": "7499abff",
   "metadata": {},
   "source": [
    "Y tenemos un ORDEN a la hora de escribir nuestras sentencias:\n",
    "\n",
    "| Paso | Cláusula   | Obligatoria | ¿Para qué sirve?                           |\n",
    "| ---- | ---------- | ----------- | ------------------------------------------ |\n",
    "| 1️⃣  | `SELECT`   | ✅ Sí        | Indica qué columnas o cálculos quieres ver |\n",
    "| 2️⃣  | `FROM`     | ✅ Sí        | Indica de qué tabla(s) sacar los datos     |\n",
    "| 3️⃣  | `JOIN`     | ❌ No        | Une varias tablas relacionadas             |\n",
    "| 4️⃣  | `WHERE`    | ❌ No        | Filtra filas antes de agrupar              |\n",
    "| 5️⃣  | `GROUP BY` | ❌ No        | Agrupa filas por uno o varios campos       |\n",
    "| 6️⃣  | `HAVING`   | ❌ No        | Filtra grupos (después de agrupar)         |\n",
    "| 7️⃣  | `ORDER BY` | ❌ No        | Ordena el resultado                        |\n",
    "| 8️⃣  | `LIMIT`    | ❌ No        | Limita la cantidad de resultados           |\n",
    "| 9️⃣  | `OFFSET`   | ❌ No        | Salta una cantidad de resultados           |\n"
   ]
  },
  {
   "cell_type": "markdown",
   "id": "0f88dff6",
   "metadata": {},
   "source": [
    "Si te diste cuenta aún nos faltan ver varias instrucciones de ``SQL`` 🥸. \n",
    "\n",
    "Finalmente, es importante mencionar que con las sentencias que hemos visto hasta el momento podemos ya responder varias preguntas interesantes y preguntas tipo entrevistas 💡."
   ]
  },
  {
   "cell_type": "markdown",
   "id": "31a7d7b6",
   "metadata": {},
   "source": [
    "Comenzamos con la clase dos realizando el primer ejercicio para participación:\n",
    "\n",
    "### 📢 Sistema de puntos 📢\n",
    "\n",
    "Escribe una consulta en ``SQL`` para obtener el top 3 de los productos más vendidos (pista: _count()_) el 6 de enero.\n",
    "\n",
    "Manda tu código, solo de SQL, al grupo de whatsApp\n",
    "\n",
    "---\n",
    "\n"
   ]
  },
  {
   "cell_type": "markdown",
   "id": "4fdf1285",
   "metadata": {},
   "source": [
    "### Parte X: Más de Pandas\n",
    "\n",
    "Dado un dataframe podemos:"
   ]
  },
  {
   "cell_type": "code",
   "execution_count": 28,
   "id": "0a3c25a6",
   "metadata": {},
   "outputs": [],
   "source": [
    "# Obtenemos todas las ventas de la tabla ventas\n",
    "query = \"\"\"\n",
    "SELECT\n",
    "    *\n",
    "FROM\n",
    "    ventas\n",
    "\"\"\"\n",
    "\n",
    "df = consulta(query)"
   ]
  },
  {
   "cell_type": "markdown",
   "id": "d26ebdf9",
   "metadata": {},
   "source": [
    "**1. Ver el encabezado y la parte final de un dataframe**"
   ]
  },
  {
   "cell_type": "code",
   "execution_count": 30,
   "id": "7b49a0e5",
   "metadata": {},
   "outputs": [
    {
     "data": {
      "text/html": [
       "<div>\n",
       "<style scoped>\n",
       "    .dataframe tbody tr th:only-of-type {\n",
       "        vertical-align: middle;\n",
       "    }\n",
       "\n",
       "    .dataframe tbody tr th {\n",
       "        vertical-align: top;\n",
       "    }\n",
       "\n",
       "    .dataframe thead th {\n",
       "        text-align: right;\n",
       "    }\n",
       "</style>\n",
       "<table border=\"1\" class=\"dataframe\">\n",
       "  <thead>\n",
       "    <tr style=\"text-align: right;\">\n",
       "      <th></th>\n",
       "      <th>Fecha</th>\n",
       "      <th>Producto</th>\n",
       "      <th>Clave</th>\n",
       "      <th>Cantidad</th>\n",
       "      <th>Precio</th>\n",
       "      <th>Total</th>\n",
       "      <th>Sucursal</th>\n",
       "    </tr>\n",
       "  </thead>\n",
       "  <tbody>\n",
       "    <tr>\n",
       "      <th>0</th>\n",
       "      <td>2025-01-02</td>\n",
       "      <td>Pc</td>\n",
       "      <td>EQV-772</td>\n",
       "      <td>34</td>\n",
       "      <td>883.16</td>\n",
       "      <td>30027.44</td>\n",
       "      <td>Zócalo</td>\n",
       "    </tr>\n",
       "  </tbody>\n",
       "</table>\n",
       "</div>"
      ],
      "text/plain": [
       "        Fecha Producto    Clave  Cantidad  Precio     Total Sucursal\n",
       "0  2025-01-02       Pc  EQV-772        34  883.16  30027.44   Zócalo"
      ]
     },
     "execution_count": 30,
     "metadata": {},
     "output_type": "execute_result"
    }
   ],
   "source": [
    "# Encabezado con .head(n), donde n es el número de filas a mostrar\n",
    "df.head(1)"
   ]
  },
  {
   "cell_type": "code",
   "execution_count": 31,
   "id": "943bd65e",
   "metadata": {},
   "outputs": [
    {
     "data": {
      "text/html": [
       "<div>\n",
       "<style scoped>\n",
       "    .dataframe tbody tr th:only-of-type {\n",
       "        vertical-align: middle;\n",
       "    }\n",
       "\n",
       "    .dataframe tbody tr th {\n",
       "        vertical-align: top;\n",
       "    }\n",
       "\n",
       "    .dataframe thead th {\n",
       "        text-align: right;\n",
       "    }\n",
       "</style>\n",
       "<table border=\"1\" class=\"dataframe\">\n",
       "  <thead>\n",
       "    <tr style=\"text-align: right;\">\n",
       "      <th></th>\n",
       "      <th>Fecha</th>\n",
       "      <th>Producto</th>\n",
       "      <th>Clave</th>\n",
       "      <th>Cantidad</th>\n",
       "      <th>Precio</th>\n",
       "      <th>Total</th>\n",
       "      <th>Sucursal</th>\n",
       "    </tr>\n",
       "  </thead>\n",
       "  <tbody>\n",
       "    <tr>\n",
       "      <th>32999</th>\n",
       "      <td>2025-01-31</td>\n",
       "      <td>Sacapuntas</td>\n",
       "      <td>JTG-557</td>\n",
       "      <td>27</td>\n",
       "      <td>926.41</td>\n",
       "      <td>25013.07</td>\n",
       "      <td>Santa Fé</td>\n",
       "    </tr>\n",
       "  </tbody>\n",
       "</table>\n",
       "</div>"
      ],
      "text/plain": [
       "            Fecha    Producto    Clave  Cantidad  Precio     Total  Sucursal\n",
       "32999  2025-01-31  Sacapuntas  JTG-557        27  926.41  25013.07  Santa Fé"
      ]
     },
     "execution_count": 31,
     "metadata": {},
     "output_type": "execute_result"
    }
   ],
   "source": [
    "# Ver las últimas filas con .tail(n)\n",
    "df.tail(1)"
   ]
  },
  {
   "cell_type": "markdown",
   "id": "96f4727b",
   "metadata": {},
   "source": [
    "**2. Ver información básica sobre las columnas del dataframe**"
   ]
  },
  {
   "cell_type": "code",
   "execution_count": null,
   "id": "1cf0878e",
   "metadata": {},
   "outputs": [
    {
     "name": "stdout",
     "output_type": "stream",
     "text": [
      "<class 'pandas.core.frame.DataFrame'>\n",
      "RangeIndex: 33000 entries, 0 to 32999\n",
      "Data columns (total 7 columns):\n",
      " #   Column    Non-Null Count  Dtype  \n",
      "---  ------    --------------  -----  \n",
      " 0   Fecha     33000 non-null  object \n",
      " 1   Producto  33000 non-null  object \n",
      " 2   Clave     33000 non-null  object \n",
      " 3   Cantidad  33000 non-null  int64  \n",
      " 4   Precio    33000 non-null  float64\n",
      " 5   Total     33000 non-null  float64\n",
      " 6   Sucursal  33000 non-null  object \n",
      "dtypes: float64(2), int64(1), object(4)\n",
      "memory usage: 1.8+ MB\n"
     ]
    }
   ],
   "source": [
    "# con .info() podemos ver información general del DataFrame, tal como\n",
    "# el número de filas, columnas, tipos de datos y memoria utilizada\n",
    "# si la columna tiene valores nulos, también lo indicará\n",
    "df.info()"
   ]
  },
  {
   "cell_type": "markdown",
   "id": "aec67da6",
   "metadata": {},
   "source": [
    "**3. Ver estadísticas básicas sobre columnas numéricas**"
   ]
  },
  {
   "cell_type": "code",
   "execution_count": 33,
   "id": "5f9c88ed",
   "metadata": {},
   "outputs": [
    {
     "data": {
      "text/html": [
       "<div>\n",
       "<style scoped>\n",
       "    .dataframe tbody tr th:only-of-type {\n",
       "        vertical-align: middle;\n",
       "    }\n",
       "\n",
       "    .dataframe tbody tr th {\n",
       "        vertical-align: top;\n",
       "    }\n",
       "\n",
       "    .dataframe thead th {\n",
       "        text-align: right;\n",
       "    }\n",
       "</style>\n",
       "<table border=\"1\" class=\"dataframe\">\n",
       "  <thead>\n",
       "    <tr style=\"text-align: right;\">\n",
       "      <th></th>\n",
       "      <th>Cantidad</th>\n",
       "      <th>Precio</th>\n",
       "      <th>Total</th>\n",
       "    </tr>\n",
       "  </thead>\n",
       "  <tbody>\n",
       "    <tr>\n",
       "      <th>count</th>\n",
       "      <td>33000.000000</td>\n",
       "      <td>33000.000000</td>\n",
       "      <td>33000.000000</td>\n",
       "    </tr>\n",
       "    <tr>\n",
       "      <th>mean</th>\n",
       "      <td>25.584788</td>\n",
       "      <td>2480.866745</td>\n",
       "      <td>63306.641051</td>\n",
       "    </tr>\n",
       "    <tr>\n",
       "      <th>std</th>\n",
       "      <td>14.410373</td>\n",
       "      <td>2173.772379</td>\n",
       "      <td>72683.840149</td>\n",
       "    </tr>\n",
       "    <tr>\n",
       "      <th>min</th>\n",
       "      <td>1.000000</td>\n",
       "      <td>0.090000</td>\n",
       "      <td>0.400000</td>\n",
       "    </tr>\n",
       "    <tr>\n",
       "      <th>25%</th>\n",
       "      <td>13.000000</td>\n",
       "      <td>680.592500</td>\n",
       "      <td>10619.265000</td>\n",
       "    </tr>\n",
       "    <tr>\n",
       "      <th>50%</th>\n",
       "      <td>26.000000</td>\n",
       "      <td>1871.100000</td>\n",
       "      <td>35554.920000</td>\n",
       "    </tr>\n",
       "    <tr>\n",
       "      <th>75%</th>\n",
       "      <td>38.000000</td>\n",
       "      <td>3769.452500</td>\n",
       "      <td>91271.495000</td>\n",
       "    </tr>\n",
       "    <tr>\n",
       "      <th>max</th>\n",
       "      <td>50.000000</td>\n",
       "      <td>9975.500000</td>\n",
       "      <td>474914.000000</td>\n",
       "    </tr>\n",
       "  </tbody>\n",
       "</table>\n",
       "</div>"
      ],
      "text/plain": [
       "           Cantidad        Precio          Total\n",
       "count  33000.000000  33000.000000   33000.000000\n",
       "mean      25.584788   2480.866745   63306.641051\n",
       "std       14.410373   2173.772379   72683.840149\n",
       "min        1.000000      0.090000       0.400000\n",
       "25%       13.000000    680.592500   10619.265000\n",
       "50%       26.000000   1871.100000   35554.920000\n",
       "75%       38.000000   3769.452500   91271.495000\n",
       "max       50.000000   9975.500000  474914.000000"
      ]
     },
     "execution_count": 33,
     "metadata": {},
     "output_type": "execute_result"
    }
   ],
   "source": [
    "df.describe()"
   ]
  },
  {
   "cell_type": "markdown",
   "id": "88d19c57",
   "metadata": {},
   "source": [
    "**4. Podemos ver la estructura del dataframe**"
   ]
  },
  {
   "cell_type": "code",
   "execution_count": null,
   "id": "390994cc",
   "metadata": {},
   "outputs": [
    {
     "data": {
      "text/plain": [
       "(33000, 7)"
      ]
     },
     "execution_count": 34,
     "metadata": {},
     "output_type": "execute_result"
    }
   ],
   "source": [
    "# Veamos cuantas filas y columnas tiene el DataFrame con el atributo .shape\n",
    "# el cualnos arroja una tupla con el número de filas y columnas\n",
    "df.shape"
   ]
  },
  {
   "cell_type": "code",
   "execution_count": 35,
   "id": "7429454d",
   "metadata": {},
   "outputs": [
    {
     "data": {
      "text/plain": [
       "Index(['Fecha', 'Producto', 'Clave', 'Cantidad', 'Precio', 'Total',\n",
       "       'Sucursal'],\n",
       "      dtype='object')"
      ]
     },
     "execution_count": 35,
     "metadata": {},
     "output_type": "execute_result"
    }
   ],
   "source": [
    "# Podemos ver los nombres de las columnas con el atributo .columns\n",
    "df.columns"
   ]
  },
  {
   "cell_type": "code",
   "execution_count": 36,
   "id": "dbb00742",
   "metadata": {},
   "outputs": [
    {
     "data": {
      "text/plain": [
       "RangeIndex(start=0, stop=33000, step=1)"
      ]
     },
     "execution_count": 36,
     "metadata": {},
     "output_type": "execute_result"
    }
   ],
   "source": [
    "# Podemos ver la numeración de las filas con el atributo .index\n",
    "df.index"
   ]
  },
  {
   "cell_type": "markdown",
   "id": "ac28484a",
   "metadata": {},
   "source": [
    "Cabe resaltar que el índice no necesariamente es numérico.\n",
    "\n",
    "**5. Podems acceder a columnas obteniendo subdataframes**"
   ]
  },
  {
   "cell_type": "code",
   "execution_count": 38,
   "id": "3cb6065f",
   "metadata": {},
   "outputs": [
    {
     "data": {
      "text/plain": [
       "0      Zócalo\n",
       "1       Coapa\n",
       "2    Narvarte\n",
       "3       Coapa\n",
       "4    Cuemanco\n",
       "Name: Sucursal, dtype: object"
      ]
     },
     "execution_count": 38,
     "metadata": {},
     "output_type": "execute_result"
    }
   ],
   "source": [
    "# accedemos a una columna\n",
    "df['Sucursal'].head(5)"
   ]
  },
  {
   "cell_type": "code",
   "execution_count": 39,
   "id": "9e161e5b",
   "metadata": {},
   "outputs": [
    {
     "data": {
      "text/html": [
       "<div>\n",
       "<style scoped>\n",
       "    .dataframe tbody tr th:only-of-type {\n",
       "        vertical-align: middle;\n",
       "    }\n",
       "\n",
       "    .dataframe tbody tr th {\n",
       "        vertical-align: top;\n",
       "    }\n",
       "\n",
       "    .dataframe thead th {\n",
       "        text-align: right;\n",
       "    }\n",
       "</style>\n",
       "<table border=\"1\" class=\"dataframe\">\n",
       "  <thead>\n",
       "    <tr style=\"text-align: right;\">\n",
       "      <th></th>\n",
       "      <th>Sucursal</th>\n",
       "      <th>Producto</th>\n",
       "    </tr>\n",
       "  </thead>\n",
       "  <tbody>\n",
       "    <tr>\n",
       "      <th>0</th>\n",
       "      <td>Zócalo</td>\n",
       "      <td>Pc</td>\n",
       "    </tr>\n",
       "    <tr>\n",
       "      <th>1</th>\n",
       "      <td>Coapa</td>\n",
       "      <td>Pc</td>\n",
       "    </tr>\n",
       "    <tr>\n",
       "      <th>2</th>\n",
       "      <td>Narvarte</td>\n",
       "      <td>Plumones</td>\n",
       "    </tr>\n",
       "    <tr>\n",
       "      <th>3</th>\n",
       "      <td>Coapa</td>\n",
       "      <td>Cartulinas</td>\n",
       "    </tr>\n",
       "    <tr>\n",
       "      <th>4</th>\n",
       "      <td>Cuemanco</td>\n",
       "      <td>Uniformes</td>\n",
       "    </tr>\n",
       "  </tbody>\n",
       "</table>\n",
       "</div>"
      ],
      "text/plain": [
       "   Sucursal    Producto\n",
       "0    Zócalo          Pc\n",
       "1     Coapa          Pc\n",
       "2  Narvarte    Plumones\n",
       "3     Coapa  Cartulinas\n",
       "4  Cuemanco   Uniformes"
      ]
     },
     "execution_count": 39,
     "metadata": {},
     "output_type": "execute_result"
    }
   ],
   "source": [
    "# accedemos a mas de una columna mediante una lista\n",
    "df[['Sucursal', 'Producto']].head(5)"
   ]
  },
  {
   "cell_type": "markdown",
   "id": "2f7aea2a",
   "metadata": {},
   "source": [
    "**6. Podemos realizar filtros**"
   ]
  },
  {
   "cell_type": "code",
   "execution_count": null,
   "id": "43d5c016",
   "metadata": {},
   "outputs": [
    {
     "data": {
      "text/html": [
       "<div>\n",
       "<style scoped>\n",
       "    .dataframe tbody tr th:only-of-type {\n",
       "        vertical-align: middle;\n",
       "    }\n",
       "\n",
       "    .dataframe tbody tr th {\n",
       "        vertical-align: top;\n",
       "    }\n",
       "\n",
       "    .dataframe thead th {\n",
       "        text-align: right;\n",
       "    }\n",
       "</style>\n",
       "<table border=\"1\" class=\"dataframe\">\n",
       "  <thead>\n",
       "    <tr style=\"text-align: right;\">\n",
       "      <th></th>\n",
       "      <th>Fecha</th>\n",
       "      <th>Producto</th>\n",
       "      <th>Clave</th>\n",
       "      <th>Cantidad</th>\n",
       "      <th>Precio</th>\n",
       "      <th>Total</th>\n",
       "      <th>Sucursal</th>\n",
       "    </tr>\n",
       "  </thead>\n",
       "  <tbody>\n",
       "    <tr>\n",
       "      <th>17</th>\n",
       "      <td>2025-01-02</td>\n",
       "      <td>Cables</td>\n",
       "      <td>QJS-121</td>\n",
       "      <td>44</td>\n",
       "      <td>1250.85</td>\n",
       "      <td>55037.40</td>\n",
       "      <td>Xochimilco</td>\n",
       "    </tr>\n",
       "    <tr>\n",
       "      <th>45</th>\n",
       "      <td>2025-01-02</td>\n",
       "      <td>Libretas</td>\n",
       "      <td>TDU-168</td>\n",
       "      <td>29</td>\n",
       "      <td>33.37</td>\n",
       "      <td>967.73</td>\n",
       "      <td>Xochimilco</td>\n",
       "    </tr>\n",
       "    <tr>\n",
       "      <th>51</th>\n",
       "      <td>2025-01-02</td>\n",
       "      <td>Tablets</td>\n",
       "      <td>NRQ-338</td>\n",
       "      <td>26</td>\n",
       "      <td>3106.42</td>\n",
       "      <td>80766.92</td>\n",
       "      <td>Xochimilco</td>\n",
       "    </tr>\n",
       "    <tr>\n",
       "      <th>53</th>\n",
       "      <td>2025-01-02</td>\n",
       "      <td>Sacapuntas</td>\n",
       "      <td>PPO-765</td>\n",
       "      <td>49</td>\n",
       "      <td>2868.10</td>\n",
       "      <td>140536.90</td>\n",
       "      <td>Xochimilco</td>\n",
       "    </tr>\n",
       "    <tr>\n",
       "      <th>55</th>\n",
       "      <td>2025-01-02</td>\n",
       "      <td>Borradores</td>\n",
       "      <td>USU-861</td>\n",
       "      <td>14</td>\n",
       "      <td>1035.29</td>\n",
       "      <td>14494.06</td>\n",
       "      <td>Xochimilco</td>\n",
       "    </tr>\n",
       "  </tbody>\n",
       "</table>\n",
       "</div>"
      ],
      "text/plain": [
       "         Fecha    Producto    Clave  Cantidad   Precio      Total    Sucursal\n",
       "17  2025-01-02      Cables  QJS-121        44  1250.85   55037.40  Xochimilco\n",
       "45  2025-01-02    Libretas  TDU-168        29    33.37     967.73  Xochimilco\n",
       "51  2025-01-02     Tablets  NRQ-338        26  3106.42   80766.92  Xochimilco\n",
       "53  2025-01-02  Sacapuntas  PPO-765        49  2868.10  140536.90  Xochimilco\n",
       "55  2025-01-02  Borradores  USU-861        14  1035.29   14494.06  Xochimilco"
      ]
     },
     "execution_count": 40,
     "metadata": {},
     "output_type": "execute_result"
    }
   ],
   "source": [
    "# Obtengamos la info solo de la sucursal Xochimilco\n",
    "\n",
    "# 1. Definimos el filtro (se le suele llamar mascara booleana), de donde tenemos los \n",
    "# operadores lógicos como ==, !=, <, >, <=, >=\n",
    "filtro = df['Sucursal'] == 'Xochimilco'\n",
    "\n",
    "# 2. Aplicamos el filtro al DataFrame\n",
    "df[filtro].head(5)\n",
    "\n",
    "# Alternativamente, podemos simplemente escribir:\n",
    "# df[df['Sucursal'] == 'Xochimilco'].head(5)"
   ]
  },
  {
   "cell_type": "markdown",
   "id": "a0f21822",
   "metadata": {},
   "source": [
    "Esencialmente, con lo visto en clase ya podemos:\n",
    "\n",
    "* ✅ Realizar un análisis exploratorio de datos rápido para ver cómo es la información que queremos trabajar.\n",
    "* ✅ Podemos responder preguntas con código ``SQL``.\n",
    "* ✅ Entendemos el flujo de ejecución de las sentencias ``SQL``."
   ]
  },
  {
   "cell_type": "code",
   "execution_count": 42,
   "id": "f644e812",
   "metadata": {},
   "outputs": [
    {
     "data": {
      "text/html": [
       "<div>\n",
       "<style scoped>\n",
       "    .dataframe tbody tr th:only-of-type {\n",
       "        vertical-align: middle;\n",
       "    }\n",
       "\n",
       "    .dataframe tbody tr th {\n",
       "        vertical-align: top;\n",
       "    }\n",
       "\n",
       "    .dataframe thead th {\n",
       "        text-align: right;\n",
       "    }\n",
       "</style>\n",
       "<table border=\"1\" class=\"dataframe\">\n",
       "  <thead>\n",
       "    <tr style=\"text-align: right;\">\n",
       "      <th></th>\n",
       "      <th>total_bill</th>\n",
       "      <th>tip</th>\n",
       "      <th>sex</th>\n",
       "      <th>smoker</th>\n",
       "      <th>day</th>\n",
       "      <th>time</th>\n",
       "      <th>size</th>\n",
       "    </tr>\n",
       "  </thead>\n",
       "  <tbody>\n",
       "    <tr>\n",
       "      <th>0</th>\n",
       "      <td>16.99</td>\n",
       "      <td>1.01</td>\n",
       "      <td>Female</td>\n",
       "      <td>No</td>\n",
       "      <td>Sun</td>\n",
       "      <td>Dinner</td>\n",
       "      <td>2</td>\n",
       "    </tr>\n",
       "    <tr>\n",
       "      <th>1</th>\n",
       "      <td>10.34</td>\n",
       "      <td>1.66</td>\n",
       "      <td>Male</td>\n",
       "      <td>No</td>\n",
       "      <td>Sun</td>\n",
       "      <td>Dinner</td>\n",
       "      <td>3</td>\n",
       "    </tr>\n",
       "    <tr>\n",
       "      <th>2</th>\n",
       "      <td>21.01</td>\n",
       "      <td>3.50</td>\n",
       "      <td>Male</td>\n",
       "      <td>No</td>\n",
       "      <td>Sun</td>\n",
       "      <td>Dinner</td>\n",
       "      <td>3</td>\n",
       "    </tr>\n",
       "    <tr>\n",
       "      <th>3</th>\n",
       "      <td>23.68</td>\n",
       "      <td>3.31</td>\n",
       "      <td>Male</td>\n",
       "      <td>No</td>\n",
       "      <td>Sun</td>\n",
       "      <td>Dinner</td>\n",
       "      <td>2</td>\n",
       "    </tr>\n",
       "    <tr>\n",
       "      <th>4</th>\n",
       "      <td>24.59</td>\n",
       "      <td>3.61</td>\n",
       "      <td>Female</td>\n",
       "      <td>No</td>\n",
       "      <td>Sun</td>\n",
       "      <td>Dinner</td>\n",
       "      <td>4</td>\n",
       "    </tr>\n",
       "  </tbody>\n",
       "</table>\n",
       "</div>"
      ],
      "text/plain": [
       "   total_bill   tip     sex smoker  day    time  size\n",
       "0       16.99  1.01  Female     No  Sun  Dinner     2\n",
       "1       10.34  1.66    Male     No  Sun  Dinner     3\n",
       "2       21.01  3.50    Male     No  Sun  Dinner     3\n",
       "3       23.68  3.31    Male     No  Sun  Dinner     2\n",
       "4       24.59  3.61  Female     No  Sun  Dinner     4"
      ]
     },
     "execution_count": 42,
     "metadata": {},
     "output_type": "execute_result"
    }
   ],
   "source": [
    "import seaborn as sns\n",
    "\n",
    "df = sns.load_dataset('tips')\n",
    "df.head()"
   ]
  }
 ],
 "metadata": {
  "kernelspec": {
   "display_name": "Python 3",
   "language": "python",
   "name": "python3"
  },
  "language_info": {
   "codemirror_mode": {
    "name": "ipython",
    "version": 3
   },
   "file_extension": ".py",
   "mimetype": "text/x-python",
   "name": "python",
   "nbconvert_exporter": "python",
   "pygments_lexer": "ipython3",
   "version": "3.12.1"
  }
 },
 "nbformat": 4,
 "nbformat_minor": 5
}
