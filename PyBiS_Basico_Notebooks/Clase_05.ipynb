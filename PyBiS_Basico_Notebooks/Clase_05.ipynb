{
 "cells": [
  {
   "cell_type": "markdown",
   "id": "5d26af88",
   "metadata": {},
   "source": [
    "# 💥 Primeros pasos con ``Python`` y ``SQL`` 💥\n",
    "\n",
    "|| <a style=\"background-color: #1bf8ff; color: #000000; border: none; padding: 10px 15px; border-radius: 5px;\">24 de Mayo del 2025</a> ||\n",
    "<a style=\"background-color: #1bf8ff; color: #000000; border: none; padding: 10px 15px; border-radius: 5px;\">Clase 4</a> ||\n",
    "<a style=\"background-color: #1bf8ff; color: #000000; border: none; padding: 10px 15px; border-radius: 5px;\">Cursos PyM</a> ||\n",
    "<a style=\"background-color: #1bf8ff; color: #000000; border: none; padding: 10px 15px; border-radius: 5px;\">Luis Fernando Apáez Álvarez</a> ||\n",
    "\n",
    "## 🪗Acordeón de clase🪗\n",
    "\n",
    "\n",
    "\n",
    "**Objetivo de clase:** Complementar la automatización montando ahora la generación de la base de datos y la tabla, adicionalmente agregando una función para realizar consultas a la tabla.\n",
    "\n",
    "Para lograr imprimir el ticket anterior aprenderemos:\n",
    "\n",
    "<a style=\"background-color:rgb(213, 255, 27); color: #000000; border: none; padding: 10px 15px; border-radius: 5px;\">+Funciones</a> &nbsp; &nbsp; <a style=\"background-color:rgb(213, 255, 27); color: #000000; border: none; padding: 10px 15px; border-radius: 5px;\">+SQL</a> &nbsp; &nbsp; <a style=\"background-color:rgb(213, 255, 27); color: #000000; border: none; padding: 10px 15px; border-radius: 5px;\">POO</a> &nbsp; &nbsp; <a style=\"background-color:rgb(213, 255, 27); color: #000000; border: none; padding: 10px 15px; border-radius: 5px;\">+Fechas</a> &nbsp; &nbsp; <a style=\"background-color:rgb(213, 255, 27); color: #000000; border: none; padding: 10px 15px; border-radius: 5px;\">POO</a>\n",
    "&nbsp; &nbsp; <a style=\"background-color:rgb(213, 255, 27); color: #000000; border: none; padding: 10px 15px; border-radius: 5px;\">Crear una librería</a> "
   ]
  },
  {
   "cell_type": "markdown",
   "id": "9b5e1f45",
   "metadata": {},
   "source": [
    "1. Ver mas de POO\n",
    "2. Ver puro SQL\n",
    "3. aprender a usar pandas\n",
    "4. ver condicionales\n",
    "5. mejorar el proyecto ---> que implementen lo del range de fechas"
   ]
  }
 ],
 "metadata": {
  "language_info": {
   "name": "python"
  }
 },
 "nbformat": 4,
 "nbformat_minor": 5
}
