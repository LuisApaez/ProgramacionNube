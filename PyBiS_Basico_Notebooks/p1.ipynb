{
 "cells": [
  {
   "cell_type": "markdown",
   "metadata": {},
   "source": [
    "# Problema 1\n",
    "\n",
    "Dividir dos números sin  utilizar división, multiplicación y sin el operador módulo."
   ]
  },
  {
   "cell_type": "code",
   "execution_count": 13,
   "metadata": {},
   "outputs": [
    {
     "name": "stdout",
     "output_type": "stream",
     "text": [
      "1\n"
     ]
    }
   ],
   "source": [
    "n = -1\n",
    "k = -1\n",
    "\n",
    "def operador(a, b):\n",
    "    cociente = 0\n",
    "    while a >= b:\n",
    "        a -= b\n",
    "        cociente += 1\n",
    "    return cociente\n",
    "    \n",
    "# El resultado debe ser 3 porque truncamos los decimales\n",
    "\n",
    "if (n < 0) and (k < 0):\n",
    "    n = -n\n",
    "    k = -k\n",
    "    print(operador(n, k))\n",
    "elif (k < 0):\n",
    "    k = -k\n",
    "    print(-operador(n, k))\n",
    "elif (n < 0):\n",
    "    n = -n\n",
    "    print(-operador(n, k))\n",
    "else:\n",
    "    print(operador(n, k))"
   ]
  }
 ],
 "metadata": {
  "kernelspec": {
   "display_name": "Python 3",
   "language": "python",
   "name": "python3"
  },
  "language_info": {
   "codemirror_mode": {
    "name": "ipython",
    "version": 3
   },
   "file_extension": ".py",
   "mimetype": "text/x-python",
   "name": "python",
   "nbconvert_exporter": "python",
   "pygments_lexer": "ipython3",
   "version": "3.12.3"
  }
 },
 "nbformat": 4,
 "nbformat_minor": 2
}
