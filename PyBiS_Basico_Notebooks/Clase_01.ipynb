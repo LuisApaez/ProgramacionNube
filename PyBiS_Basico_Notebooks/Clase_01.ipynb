{
 "cells": [
  {
   "cell_type": "markdown",
   "id": "da33c53e",
   "metadata": {},
   "source": [
    "# 💥 Primeros pasos con ``Python`` 💥\n",
    "\n",
    "|| <a style=\"background-color: #1bf8ff; color: #000000; border: none; padding: 10px 15px; border-radius: 5px;\">15 de Mayo del 2025</a> ||\n",
    "<a style=\"background-color: #1bf8ff; color: #000000; border: none; padding: 10px 15px; border-radius: 5px;\">Clase 1</a> ||\n",
    "<a style=\"background-color: #1bf8ff; color: #000000; border: none; padding: 10px 15px; border-radius: 5px;\">Cursos PyM</a> ||\n",
    "<a style=\"background-color: #1bf8ff; color: #000000; border: none; padding: 10px 15px; border-radius: 5px;\">Luis Fernando Apáez Álvarez</a> ||\n",
    "\n",
    "## 🪗Acordeón de clase🪗\n",
    "\n",
    "---\n",
    "\n"
   ]
  },
  {
   "cell_type": "markdown",
   "id": "5487daa4",
   "metadata": {},
   "source": [
    "### 📓Proyecto del curso 📓\n",
    "\n",
    "Consta de simular las ventas de una papelería que cuenta con 10 sucursales a lo largo de la Ciudad de México. En él aprenderemos a automatizar procesos, montar flujos de datos, utilizar pandas y SQL, y mucho más. Buscaremos crear una tabla para almacenar toda la información de ventas de las diferentes papelerías, dicha tabla será algo como:\n",
    "\n",
    "Fecha | Sucursal | Producto | Clave_Producto | Cantidad_Vendida | Precio |Total_Ticket\n",
    "---|---|---|---|---|---|---|\n",
    "\n",
    "Con base en lo anterior establecemos el:\n",
    "\n",
    "**Objetivo de clase:** Imprimir un ticket de venta del estilo\n",
    "\n",
    "```\n",
    "***********************\n",
    "Fecha venta: 2025-05-15\n",
    "Cajero:  Luis Apaez\n",
    "***********************\n",
    "\n",
    "Producto: Libreta\n",
    "Clave: AAA-123\n",
    "\n",
    "Cantidad: 1\n",
    "Precio: $100\n",
    "\n",
    "Total: $100\n",
    "***********************\n",
    "\n",
    "Sucursal: Xochimilco\n",
    "```\n",
    "\n",
    "Para lograr imprimir el ticket anterior aprenderemos:\n",
    "\n",
    "<a style=\"background-color:rgb(213, 255, 27); color: #000000; border: none; padding: 10px 15px; border-radius: 5px;\">Tipos de datos</a> &nbsp; &nbsp; <a style=\"background-color:rgb(213, 255, 27); color: #000000; border: none; padding: 10px 15px; border-radius: 5px;\">Variables</a> &nbsp; &nbsp; <a style=\"background-color:rgb(213, 255, 27); color: #000000; border: none; padding: 10px 15px; border-radius: 5px;\">Listas</a>\n",
    "&nbsp; &nbsp; <a style=\"background-color:rgb(213, 255, 27); color: #000000; border: none; padding: 10px 15px; border-radius: 5px;\">Librería Random</a> "
   ]
  },
  {
   "cell_type": "markdown",
   "id": "4783d17f",
   "metadata": {},
   "source": [
    "---\n",
    "\n",
    "### Parte I: Elementos básicos de Python"
   ]
  },
  {
   "cell_type": "markdown",
   "id": "4a536a0f",
   "metadata": {},
   "source": [
    "Comenzaremos por ver que dentro de Python podemos efectuar cálculos aritméticos"
   ]
  },
  {
   "cell_type": "code",
   "execution_count": null,
   "id": "30aa36b1",
   "metadata": {},
   "outputs": [
    {
     "data": {
      "text/plain": [
       "8"
      ]
     },
     "execution_count": 1,
     "metadata": {},
     "output_type": "execute_result"
    }
   ],
   "source": [
    "# Esto es un comentario.\n",
    "# Los comentarios no afectan el código, pero ayudan a entenderlo. Es decir,\n",
    "# no se ejecutan y además sirven para documentar el código.\n",
    "\n",
    "# Otro tema importante por mencionar es que Python se ejecuta línea por línea y de\n",
    "# arriba hacia abajo. Por lo tanto, el orden de las líneas es importante.\n",
    "\n",
    "###################################################################################\n",
    "###################################################################################\n",
    "###################################################################################\n",
    "\n",
    "# Hagamos algunas operaciones matemáticas.\n",
    "\n",
    "# Resolvamos una suma\n",
    "1 + 1\n",
    "\n",
    "# Resolvamos una resta\n",
    "1 - 1\n",
    "\n",
    "# Resolvamos una multiplicación\n",
    "1 * 1\n",
    "\n",
    "# Resolvamos una división\n",
    "1 / 1\n",
    "\n",
    "# Resolvamos una división entera\n",
    "1 // 1\n",
    "\n",
    "# Resolvamos un módulo\n",
    "1 % 1\n",
    "\n",
    "# Resolvamos una potencia\n",
    "2 ** 3"
   ]
  },
  {
   "cell_type": "markdown",
   "id": "451e343c",
   "metadata": {},
   "source": [
    "No obstante, observamos que no podemos ver todos los resultados, de hecho, solo observamos el último. Para poder ver todos los resultados haremos uso de la función ``print()`` como sigue:"
   ]
  },
  {
   "cell_type": "code",
   "execution_count": 2,
   "id": "918e79ce",
   "metadata": {},
   "outputs": [
    {
     "name": "stdout",
     "output_type": "stream",
     "text": [
      "2\n",
      "0\n",
      "1\n",
      "1.0\n",
      "1\n",
      "0\n",
      "8\n"
     ]
    }
   ],
   "source": [
    "# Resolvamos una suma\n",
    "print(1 + 1)\n",
    "\n",
    "# Resolvamos una resta\n",
    "print(1 - 1)\n",
    "\n",
    "# Resolvamos una multiplicación\n",
    "print(1 * 1)\n",
    "\n",
    "# Resolvamos una división\n",
    "print(1 / 1)\n",
    "\n",
    "# Resolvamos una división entera\n",
    "print(1 // 1)\n",
    "\n",
    "# Resolvamos un módulo\n",
    "print(1 % 1)\n",
    "\n",
    "# Resolvamos una potencia\n",
    "print(2 ** 3)"
   ]
  },
  {
   "cell_type": "markdown",
   "id": "d1239933",
   "metadata": {},
   "source": [
    "En este caso ya podemos ver todos los datos.\n",
    "\n",
    "Es preciso mencionar que dentro de Python tenemos diferentes tipos de datos, algunos de ellos son:\n",
    "\n",
    "1. Enteros (en Python _integers_ o ``int``).\n",
    "2. Decimales (en Python _floats_ o ``float``).\n",
    "3. Cadenas de texto (en Python _strings_ o ``str``): Las cadenas de texto, o simplemente strings, son elementos que nos permiten agregar texto dentro de nuestros programas. Para definir cadenas de texto usamos comillas dobles ``\" \"`` o comillas simples ``' ' ``. Por ejemplo:"
   ]
  },
  {
   "cell_type": "code",
   "execution_count": 3,
   "id": "90ece61b",
   "metadata": {},
   "outputs": [
    {
     "name": "stdout",
     "output_type": "stream",
     "text": [
      "Hola Mundo 💀\n",
      "\n",
      "Adios Mundo 🎖️\n"
     ]
    }
   ],
   "source": [
    "# Definimos una cadena de texto\n",
    "print(\"Hola Mundo 💀\")\n",
    "\n",
    "# Si no le pasamos nada al print, se imprime una línea en blanco\n",
    "print()\n",
    "\n",
    "# Definimos una cadena de texto\n",
    "print(\"Adios Mundo 🎖️\")"
   ]
  },
  {
   "cell_type": "code",
   "execution_count": 4,
   "id": "db66ddd0",
   "metadata": {},
   "outputs": [
    {
     "name": "stdout",
     "output_type": "stream",
     "text": [
      "Hola Mundo 💀\n"
     ]
    }
   ],
   "source": [
    "# Podemos \"pegar\" cadenas de texto con el operador +. De hecho, pegar cadenas\n",
    "# no es otra cosa que concatenar o unir cadenas.\n",
    "print(\"Hola\" + \" \" + \"Mundo\" + \" \" + \"💀\")"
   ]
  },
  {
   "cell_type": "code",
   "execution_count": 2,
   "id": "e0f79456",
   "metadata": {},
   "outputs": [
    {
     "name": "stdout",
     "output_type": "stream",
     "text": [
      "HolaHolaHola\n"
     ]
    }
   ],
   "source": [
    "# Tambien podemos multiplicar una cadena de texto por un número entero. Esto se llama\n",
    "# repetición de cadenas.\n",
    "print(\"Hola\" * 3)"
   ]
  },
  {
   "cell_type": "markdown",
   "id": "c8bd7d9c",
   "metadata": {},
   "source": [
    "Por otro lado, es necesario contar con algún concepto que nos permita almacenar valores, dicho concepto será el tema de _variables_\n",
    "\n",
    "**¿Qué es una variable?**\n",
    "\n",
    "Una variable es una “caja” con un nombre que guarda un valor para que lo podamos usar más tarde.\n",
    "\n",
    "📦 Ejemplo de la vida real:\n",
    "\n",
    "Si escribes tu nombre en una hoja y lo guardas en una caja con la etiqueta “nombre”, puedes abrir esa caja después y volver a leerlo.\n",
    "En Python, haríamos eso así:"
   ]
  },
  {
   "cell_type": "code",
   "execution_count": 5,
   "id": "27af4ab0",
   "metadata": {},
   "outputs": [
    {
     "name": "stdout",
     "output_type": "stream",
     "text": [
      "Ana\n"
     ]
    }
   ],
   "source": [
    "# aca, el simbolo de igualdad es un operador de asignación, no de comparación\n",
    "# Definimos una variable\n",
    "nombre = \"Ana\"\n",
    "\n",
    "# imprimimos el valor de la variable\n",
    "print(nombre)"
   ]
  },
  {
   "cell_type": "markdown",
   "id": "5eccbbf5",
   "metadata": {},
   "source": [
    "Las variables, como dijimos antes, nos sirven para guardar datos, pero como su mismo nombre nos indica, tienen una naturaleza de cambio, esto es, en cualquier momento podemos cambiar su valor:"
   ]
  },
  {
   "cell_type": "code",
   "execution_count": 6,
   "id": "21c8b01e",
   "metadata": {},
   "outputs": [
    {
     "name": "stdout",
     "output_type": "stream",
     "text": [
      "Juan\n"
     ]
    }
   ],
   "source": [
    "# Cambiamos el valor almacenado en la variable nombre\n",
    "nombre = \"Juan\"\n",
    "print(nombre)"
   ]
  },
  {
   "cell_type": "markdown",
   "id": "816df440",
   "metadata": {},
   "source": [
    "Finalmente, tenemos otro tipo de dato, el cual es muy sencillo pues solo puede tener asignado un valor de dos posibles. Nos referimos a los _booleanos_ o ``bool``, que solo puede tener asociado....\n",
    "\n",
    "* ``True``: Verdadero\n",
    "* ``False``: Falso"
   ]
  },
  {
   "cell_type": "code",
   "execution_count": 1,
   "id": "8ca552e7",
   "metadata": {},
   "outputs": [
    {
     "name": "stdout",
     "output_type": "stream",
     "text": [
      "Hola Mundo 💀\n",
      "\n",
      "Tipo de dato boolean: True\n",
      "Tipo de dato entero: 18\n",
      "Tipo de dato float: 1.8\n"
     ]
    }
   ],
   "source": [
    "# Definimos una variable boolean\n",
    "es_mayor_de_edad = True\n",
    "\n",
    "# Definimos una variable entera\n",
    "edad = 18\n",
    "\n",
    "# Definimos una variable de punto flotante\n",
    "altura = 1.80\n",
    "\n",
    "##########################################\n",
    "# Dato extra: a la funcion print se le \n",
    "# puede pasar mas de un valor, separados \n",
    "# por comas \n",
    "print(\"Hola\", \"Mundo\", \"💀\")\n",
    "print()\n",
    "##########################################\n",
    "\n",
    "# Asi, podemos realizar la siguiente \n",
    "# impresion de las variables\n",
    "print('Tipo de dato boolean:', es_mayor_de_edad)\n",
    "print('Tipo de dato entero:', edad)\n",
    "print('Tipo de dato float:', altura)"
   ]
  },
  {
   "cell_type": "markdown",
   "id": "5563f07a",
   "metadata": {},
   "source": [
    "---\n",
    "\n",
    "# 📢 Sistema de puntos 📢\n",
    "\n",
    "Resuelve el siguiente ejercicio (tiempo aproximado: 5 min):\n",
    "\n",
    "```\n",
    "Crea variables para representar a un alumno:\n",
    "\n",
    "nombre\n",
    "\n",
    "edad\n",
    "\n",
    "promedio\n",
    "\n",
    "si está inscrito (booleano)\n",
    "\n",
    "Manda a imprmir las variables.\n",
    "```\n",
    "\n",
    "Tómale foto o captura a tu código y mándalo al grupo de whats app 🥸\n",
    "\n",
    "---\n",
    "\n",
    "Continuando con la clase ...\n",
    "\n",
    "**Listas**\n",
    "\n",
    "* Las listas son estructuras de datos que nos permite almacenar información.\n",
    "* Las listas se definen por medio de corchetes.\n",
    "* Dentro de una lista, Python realiza la enumeración de los elementos comenzando por el cero.\n",
    "\n",
    "Por ejemplo\n",
    "\n",
    "\n"
   ]
  },
  {
   "cell_type": "code",
   "execution_count": 1,
   "id": "c332e614",
   "metadata": {},
   "outputs": [
    {
     "name": "stdout",
     "output_type": "stream",
     "text": [
      "['manzana', 'plátano', 'naranja']\n"
     ]
    }
   ],
   "source": [
    "# Definimaos una variable de tipo lista\n",
    "frutas = [\"manzana\", \"plátano\", \"naranja\"]\n",
    "print(frutas)"
   ]
  },
  {
   "cell_type": "code",
   "execution_count": null,
   "id": "f989ead0",
   "metadata": {},
   "outputs": [
    {
     "name": "stdout",
     "output_type": "stream",
     "text": [
      "manzana\n",
      "plátano\n",
      "naranja\n"
     ]
    }
   ],
   "source": [
    "# Podemos acceder de manera individual a los elementos de la lista\n",
    "print(frutas[0])  # manzana\n",
    "print(frutas[1])  # plátano\n",
    "print(frutas[2])  # naranja\n",
    "\n",
    "###################################################################\n",
    "#                0          1         2\n",
    "# frutas = [\"manzana\", \"plátano\", \"naranja\"]"
   ]
  },
  {
   "cell_type": "code",
   "execution_count": null,
   "id": "ca659d4f",
   "metadata": {},
   "outputs": [
    {
     "name": "stdout",
     "output_type": "stream",
     "text": [
      "['manzana', 'plátano', 'naranja', 'sandía']\n"
     ]
    }
   ],
   "source": [
    "# Dada una lista, podemos agregarle elementos nuevos \n",
    "# mediante el método append\n",
    "\n",
    "# Agregamos un nuevo elemento a la lista\n",
    "frutas.append(\"sandía\")  \n",
    "print(frutas)\n",
    "\n",
    "######################################################\n",
    "# Para eliminar un elemento de la lista, usamos el método remove\n",
    "# Por ejemplo: frutas.remove(\"manzana\") "
   ]
  },
  {
   "cell_type": "markdown",
   "id": "0c1f5dfb",
   "metadata": {},
   "source": [
    "**Librería Random**"
   ]
  },
  {
   "cell_type": "markdown",
   "id": "9b83e7a9",
   "metadata": {},
   "source": [
    "Para este tema es preciso establecer primero la definición de librería. En términos simples, una librería es un conjunto de funcionalidades para un fin en específico. Por ejemplo:\n",
    "\n",
    "* NumPy: enfocado en operaciones numéricas y manejo de arreglos.\n",
    "\n",
    "* pandas: enfocado en manipulación y análisis de datos.\n",
    "\n",
    "* matplotlib: enfocado en creación de gráficos.\n",
    "\n",
    "* scikit-learn: enfocado en algoritmos de machine learning.\n",
    "\n",
    "* requests: enfocado manejo de solicitudes HTTP.\n",
    "\n",
    "De manera más concreta:\n",
    "\n",
    "Una librería (o también llamada paquetería) en Python es un conjunto de módulos organizados en carpetas que permiten reutilizar funciones, clases y variables relacionadas entre sí. Facilitan la organización del código y su distribución.\n",
    "\n",
    "La librería que ocuparemos en este momento es la librería ``random`` la cual nos permite realizar selecciones aleatorias. Por ejemplo:\n",
    "\n",
    "🪙 Simulación de lanzamiento de una moneda 🪙"
   ]
  },
  {
   "cell_type": "code",
   "execution_count": 2,
   "id": "06daa7c9",
   "metadata": {},
   "outputs": [
    {
     "name": "stdout",
     "output_type": "stream",
     "text": [
      "Águila\n"
     ]
    }
   ],
   "source": [
    "# 1. Definimos la siguiente lista\n",
    "moneda = ['Águila', 'Sol']\n",
    "\n",
    "# 2. Nos traemos todas las funcionalidades de la libreria random\n",
    "#    anuestro entorno de trabajo\n",
    "import random as r\n",
    "\n",
    "# donde el símbolo \"as\" es un alias para la librería random\n",
    "# 3. Utilizamos la funcion r.choice para elegir un elemento al azar de la lista\n",
    "moneda_azar = r.choice(moneda)\n",
    "print(moneda_azar)"
   ]
  },
  {
   "cell_type": "markdown",
   "id": "fb484ee4",
   "metadata": {},
   "source": [
    "Cabe mencionar que es una buena práctica colocar nombres descriptivos a las variables para tener un mejor entendimiento del código en general.\n",
    "\n",
    "Continuando, tenemos las siguientes funciones adicionales de la librería ``random``:\n",
    "\n",
    "* ``r.randint(a, b)``: Selecciona de manera aleatoria un número del rango de números enteros entre ``a`` y ``b``.\n",
    "* ``r.random()``: genera un número \"aleatorio\" decimal en el rango $(0,1)$.\n",
    "\n",
    "Además, ``python base`` (lo anterior se refiere a todas las funcionalidades que tiene ``python`` sin la necesidad de librerías) tiene la siguiente función que nos serán muy útil:\n",
    "\n",
    "* ``str()``: convierte \"datos\" a cadenas de texto.\n",
    "\n",
    "Veamos ejemplos aplicados de las funciones anteriores:"
   ]
  },
  {
   "cell_type": "code",
   "execution_count": 10,
   "id": "86910027",
   "metadata": {},
   "outputs": [
    {
     "name": "stdout",
     "output_type": "stream",
     "text": [
      "Seleccionamos un número entre el 1 y 10 de manera aleatoria: 6\n",
      "Seleccionamos un número entre el 0 y 1 de manera aleatoria: 0.9497267592583342\n",
      "La suma de 10 y 20 es: 30\n",
      "********************************************************************************\n",
      "La 'suma' (concatenación) de 10 y 20 es: 1020\n"
     ]
    }
   ],
   "source": [
    "# 1. Ejemplo de r.randint(a, b)\n",
    "print(\"Seleccionamos un número entre el 1 y 10 de manera aleatoria:\", r.randint(1, 10))\n",
    "\n",
    "# 2. Ejemplo de r.random()\n",
    "print(\"Seleccionamos un número entre el 0 y 1 de manera aleatoria:\", r.random())\n",
    "\n",
    "# 3. Ejemplo de uso de str()\n",
    "# Definimos dos variables numericas\n",
    "num_1 = 10\n",
    "num_2 = 20\n",
    "\n",
    "# Recordemos que podemos sumarlas naturalmente\n",
    "print(\"La suma de\", num_1, \"y\", num_2, \"es:\", num_1 + num_2)\n",
    "print(\"*\" * 80)\n",
    "\n",
    "# Pero tambien recordemos que para el caso de strings, el operador + es de\n",
    "# concatenacion, es decir, une cadenas de texto. En ese sentido \n",
    "# si quisieramos obtener la cadena de texto 1020 podriamos hacer algo como\n",
    "num_1_str = str(num_1)\n",
    "num_2_str = str(num_2)\n",
    "print(\"La 'suma' (concatenación) de\", num_1_str, \"y\", num_2_str, \"es:\", num_1_str + num_2_str)"
   ]
  },
  {
   "cell_type": "markdown",
   "id": "61cab143",
   "metadata": {},
   "source": [
    "**Armado del ticket de venta**\n",
    "\n",
    "Con todo lo visto anteriormente ya estamos en condiciones de llegar al objetivo de clase, para ello vamos por partes. Primero obtengamos lo siguiente"
   ]
  },
  {
   "cell_type": "code",
   "execution_count": 18,
   "id": "b11d321d",
   "metadata": {},
   "outputs": [
    {
     "name": "stdout",
     "output_type": "stream",
     "text": [
      "******************************\n",
      "Fecha: 2025-05-15\n",
      "Nombre del cajero: Luis Apaez\n",
      "******************************\n",
      "Producto vendido: Libreta\n",
      "Clave del producto: AAA-123\n",
      "Cantidad vendida: 1\n",
      "Precio: 100\n",
      "Total de la venta: 100\n",
      "******************************\n",
      "Sucursal: Xochimilco\n",
      "******************************\n"
     ]
    }
   ],
   "source": [
    "# Definimos las variables que utilizaremos para el ticket de venta\n",
    "fecha_venta = '2025-05-15'\n",
    "cajero = \"Luis Apaez\"\n",
    "producto = \"Libreta\"\n",
    "clave = \"AAA-123\"\n",
    "cantidad = 1\n",
    "precio = 100\n",
    "\n",
    "# Calculamos el total\n",
    "total = cantidad * precio\n",
    "sucursal = \"Xochimilco\"\n",
    "\n",
    "######################################################################\n",
    "######################################################################\n",
    "\n",
    "# Imprimimos el ticket de venta\n",
    "print(\"******************************\")\n",
    "print(\"Fecha:\", fecha_venta)\n",
    "print(\"Nombre del cajero:\", cajero)\n",
    "print(\"******************************\")\n",
    "\n",
    "print(\"Producto vendido:\", producto)\n",
    "print(\"Clave del producto:\", clave)\n",
    "\n",
    "print(\"Cantidad vendida:\", cantidad)\n",
    "print(\"Precio:\", precio)\n",
    "\n",
    "print(\"Total de la venta:\", total)\n",
    "print(\"******************************\")\n",
    "\n",
    "print(\"Sucursal:\", sucursal)\n",
    "print(\"******************************\")"
   ]
  }
 ],
 "metadata": {
  "kernelspec": {
   "display_name": "Python 3",
   "language": "python",
   "name": "python3"
  },
  "language_info": {
   "codemirror_mode": {
    "name": "ipython",
    "version": 3
   },
   "file_extension": ".py",
   "mimetype": "text/x-python",
   "name": "python",
   "nbconvert_exporter": "python",
   "pygments_lexer": "ipython3",
   "version": "3.12.1"
  }
 },
 "nbformat": 4,
 "nbformat_minor": 5
}
