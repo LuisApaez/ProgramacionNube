{
 "cells": [
  {
   "cell_type": "markdown",
   "id": "da33c53e",
   "metadata": {},
   "source": [
    "# 💥 Primeros pasos con ``Python`` 💥\n",
    "\n",
    "|| <a style=\"background-color: #1bf8ff; color: #000000; border: none; padding: 10px 15px; border-radius: 5px;\">15 de Mayo del 2025</a> ||\n",
    "<a style=\"background-color: #1bf8ff; color: #000000; border: none; padding: 10px 15px; border-radius: 5px;\">Clase 1</a> ||\n",
    "<a style=\"background-color: #1bf8ff; color: #000000; border: none; padding: 10px 15px; border-radius: 5px;\">Cursos PyM</a> ||\n",
    "<a style=\"background-color: #1bf8ff; color: #000000; border: none; padding: 10px 15px; border-radius: 5px;\">Luis Fernando Apáez Álvarez</a> ||\n",
    "\n",
    "## 🪗Acordeón de clase🪗\n",
    "\n",
    "---\n",
    "\n"
   ]
  },
  {
   "cell_type": "markdown",
   "id": "5487daa4",
   "metadata": {},
   "source": [
    "### 📓Proyecto del curso 📓\n",
    "\n",
    "Consta de simular las ventas de una papelería que cuenta con 10 sucursales a lo largo de la Ciudad de México. En él aprenderemos a automatizar procesos, montar flujos de datos, utilizar pandas y SQL, y mucho más. Buscaremos crear una tabla para almacenar toda la información de ventas de las diferentes papelerías, dicha tabla será algo como:\n",
    "\n",
    "Fecha | Sucursal | Producto | Clave_Producto | Cantidad_Vendida | Precio |Total_Ticket\n",
    "---|---|---|---|---|---|---|\n",
    "\n",
    "Con base en lo anterior establecemos el:\n",
    "\n",
    "**Objetivo de clase:** Imprimir un ticket de venta del estilo\n",
    "\n",
    "```\n",
    "***********************\n",
    "Fecha venta: 2025-05-15\n",
    "Cajero:  Luis Apaez\n",
    "***********************\n",
    "\n",
    "Producto: Libreta\n",
    "Clave: AAA-123\n",
    "\n",
    "Cantidad: 1\n",
    "Precio: $100\n",
    "\n",
    "Total: $100\n",
    "***********************\n",
    "\n",
    "Sucursal: Xochimilco\n",
    "```\n",
    "\n",
    "Para lograr imprimir el ticket anterior aprenderemos:\n",
    "\n",
    "<a style=\"background-color:rgb(213, 255, 27); color: #000000; border: none; padding: 10px 15px; border-radius: 5px;\">Tipos de datos</a> &nbsp; &nbsp; <a style=\"background-color:rgb(213, 255, 27); color: #000000; border: none; padding: 10px 15px; border-radius: 5px;\">Variables</a> &nbsp; &nbsp; <a style=\"background-color:rgb(213, 255, 27); color: #000000; border: none; padding: 10px 15px; border-radius: 5px;\">Listas</a>\n",
    "&nbsp; &nbsp; <a style=\"background-color:rgb(213, 255, 27); color: #000000; border: none; padding: 10px 15px; border-radius: 5px;\">Librería Random</a> "
   ]
  },
  {
   "cell_type": "markdown",
   "id": "4783d17f",
   "metadata": {},
   "source": [
    "---\n",
    "\n",
    "### Parte I: Elementos básicos de Python"
   ]
  },
  {
   "cell_type": "markdown",
   "id": "4a536a0f",
   "metadata": {},
   "source": [
    "Comenzaremos por ver que dentro de Python podemos efectuar cálculos aritméticos"
   ]
  },
  {
   "cell_type": "code",
   "execution_count": null,
   "id": "30aa36b1",
   "metadata": {},
   "outputs": [
    {
     "data": {
      "text/plain": [
       "8"
      ]
     },
     "execution_count": 1,
     "metadata": {},
     "output_type": "execute_result"
    }
   ],
   "source": [
    "# Esto es un comentario.\n",
    "# Los comentarios no afectan el código, pero ayudan a entenderlo. Es decir,\n",
    "# no se ejecutan y además sirven para documentar el código.\n",
    "\n",
    "# Otro tema importante por mencionar es que Python se ejecuta línea por línea y de\n",
    "# arriba hacia abajo. Por lo tanto, el orden de las líneas es importante.\n",
    "\n",
    "###################################################################################\n",
    "###################################################################################\n",
    "###################################################################################\n",
    "\n",
    "# Hagamos algunas operaciones matemáticas.\n",
    "\n",
    "# Resolvamos una suma\n",
    "1 + 1\n",
    "\n",
    "# Resolvamos una resta\n",
    "1 - 1\n",
    "\n",
    "# Resolvamos una multiplicación\n",
    "1 * 1\n",
    "\n",
    "# Resolvamos una división\n",
    "1 / 1\n",
    "\n",
    "# Resolvamos una división entera\n",
    "1 // 1\n",
    "\n",
    "# Resolvamos un módulo\n",
    "1 % 1\n",
    "\n",
    "# Resolvamos una potencia\n",
    "2 ** 3"
   ]
  },
  {
   "cell_type": "markdown",
   "id": "451e343c",
   "metadata": {},
   "source": [
    "No obstante, observamos que no podemos ver todos los resultados, de hecho, solo observamos el último. Para poder ver todos los resultados haremos uso de la función ``print()`` como sigue:"
   ]
  },
  {
   "cell_type": "code",
   "execution_count": 2,
   "id": "918e79ce",
   "metadata": {},
   "outputs": [
    {
     "name": "stdout",
     "output_type": "stream",
     "text": [
      "2\n",
      "0\n",
      "1\n",
      "1.0\n",
      "1\n",
      "0\n",
      "8\n"
     ]
    }
   ],
   "source": [
    "# Resolvamos una suma\n",
    "print(1 + 1)\n",
    "\n",
    "# Resolvamos una resta\n",
    "print(1 - 1)\n",
    "\n",
    "# Resolvamos una multiplicación\n",
    "print(1 * 1)\n",
    "\n",
    "# Resolvamos una división\n",
    "print(1 / 1)\n",
    "\n",
    "# Resolvamos una división entera\n",
    "print(1 // 1)\n",
    "\n",
    "# Resolvamos un módulo\n",
    "print(1 % 1)\n",
    "\n",
    "# Resolvamos una potencia\n",
    "print(2 ** 3)"
   ]
  },
  {
   "cell_type": "markdown",
   "id": "d1239933",
   "metadata": {},
   "source": [
    "En este caso ya podemos ver todos los datos.\n",
    "\n",
    "Es preciso mencionar que dentro de Python tenemos diferentes tipos de datos, algunos de ellos son:\n",
    "\n",
    "1. Enteros (en Python _integers_ o ``int``).\n",
    "2. Decimales (en Python _floats_ o ``float``).\n",
    "3. Cadenas de texto (en Python _strings_ o ``str``): Las cadenas de texto, o simplemente strings, son elementos que nos permiten agregar texto dentro de nuestros programas. Para definir cadenas de texto usamos comillas dobles ``\" \"`` o comillas simples ``' ' ``. Por ejemplo:"
   ]
  },
  {
   "cell_type": "code",
   "execution_count": 3,
   "id": "90ece61b",
   "metadata": {},
   "outputs": [
    {
     "name": "stdout",
     "output_type": "stream",
     "text": [
      "Hola Mundo 💀\n",
      "\n",
      "Adios Mundo 🎖️\n"
     ]
    }
   ],
   "source": [
    "# Definimos una cadena de texto\n",
    "print(\"Hola Mundo 💀\")\n",
    "\n",
    "# Si no le pasamos nada al print, se imprime una línea en blanco\n",
    "print()\n",
    "\n",
    "# Definimos una cadena de texto\n",
    "print(\"Adios Mundo 🎖️\")"
   ]
  },
  {
   "cell_type": "code",
   "execution_count": 4,
   "id": "db66ddd0",
   "metadata": {},
   "outputs": [
    {
     "name": "stdout",
     "output_type": "stream",
     "text": [
      "Hola Mundo 💀\n"
     ]
    }
   ],
   "source": [
    "# Podemos \"pegar\" cadenas de texto con el operador +. De hecho, pegar cadenas\n",
    "# no es otra cosa que concatenar o unir cadenas.\n",
    "print(\"Hola\" + \" \" + \"Mundo\" + \" \" + \"💀\")"
   ]
  },
  {
   "cell_type": "code",
   "execution_count": 2,
   "id": "e0f79456",
   "metadata": {},
   "outputs": [
    {
     "name": "stdout",
     "output_type": "stream",
     "text": [
      "HolaHolaHola\n"
     ]
    }
   ],
   "source": [
    "# Tambien podemos multiplicar una cadena de texto por un número entero. Esto se llama\n",
    "# repetición de cadenas.\n",
    "print(\"Hola\" * 3)"
   ]
  },
  {
   "cell_type": "markdown",
   "id": "c8bd7d9c",
   "metadata": {},
   "source": [
    "Por otro lado, es necesario contar con algún concepto que nos permita almacenar valores, dicho concepto será el tema de _variables_\n",
    "\n",
    "**¿Qué es una variable?**\n",
    "\n",
    "Una variable es una “caja” con un nombre que guarda un valor para que lo podamos usar más tarde.\n",
    "\n",
    "📦 Ejemplo de la vida real:\n",
    "\n",
    "Si escribes tu nombre en una hoja y lo guardas en una caja con la etiqueta “nombre”, puedes abrir esa caja después y volver a leerlo.\n",
    "En Python, haríamos eso así:"
   ]
  },
  {
   "cell_type": "code",
   "execution_count": 5,
   "id": "27af4ab0",
   "metadata": {},
   "outputs": [
    {
     "name": "stdout",
     "output_type": "stream",
     "text": [
      "Ana\n"
     ]
    }
   ],
   "source": [
    "# aca, el simbolo de igualdad es un operador de asignación, no de comparación\n",
    "# Definimos una variable\n",
    "nombre = \"Ana\"\n",
    "\n",
    "# imprimimos el valor de la variable\n",
    "print(nombre)"
   ]
  },
  {
   "cell_type": "markdown",
   "id": "5eccbbf5",
   "metadata": {},
   "source": [
    "Las variables, como dijimos antes, nos sirven para guardar datos, pero como su mismo nombre nos indica, tienen una naturaleza de cambio, esto es, en cualquier momento podemos cambiar su valor:"
   ]
  },
  {
   "cell_type": "code",
   "execution_count": 6,
   "id": "21c8b01e",
   "metadata": {},
   "outputs": [
    {
     "name": "stdout",
     "output_type": "stream",
     "text": [
      "Juan\n"
     ]
    }
   ],
   "source": [
    "# Cambiamos el valor almacenado en la variable nombre\n",
    "nombre = \"Juan\"\n",
    "print(nombre)"
   ]
  },
  {
   "cell_type": "markdown",
   "id": "816df440",
   "metadata": {},
   "source": [
    "Finalmente, tenemos otro tipo de dato, el cual es muy sencillo pues solo puede tener asignado un valor de dos posibles. Nos referimos a los _booleanos_ o ``bool``, que solo puede tener asociado....\n",
    "\n",
    "* ``True``: Verdadero\n",
    "* ``False``: Falso"
   ]
  },
  {
   "cell_type": "code",
   "execution_count": 1,
   "id": "8ca552e7",
   "metadata": {},
   "outputs": [
    {
     "name": "stdout",
     "output_type": "stream",
     "text": [
      "Hola Mundo 💀\n",
      "\n",
      "Tipo de dato boolean: True\n",
      "Tipo de dato entero: 18\n",
      "Tipo de dato float: 1.8\n"
     ]
    }
   ],
   "source": [
    "# Definimos una variable boolean\n",
    "es_mayor_de_edad = True\n",
    "\n",
    "# Definimos una variable entera\n",
    "edad = 18\n",
    "\n",
    "# Definimos una variable de punto flotante\n",
    "altura = 1.80\n",
    "\n",
    "##########################################\n",
    "# Dato extra: a la funcion print se le \n",
    "# puede pasar mas de un valor, separados \n",
    "# por comas \n",
    "print(\"Hola\", \"Mundo\", \"💀\")\n",
    "print()\n",
    "##########################################\n",
    "\n",
    "# Asi, podemos realizar la siguiente \n",
    "# impresion de las variables\n",
    "print('Tipo de dato boolean:', es_mayor_de_edad)\n",
    "print('Tipo de dato entero:', edad)\n",
    "print('Tipo de dato float:', altura)"
   ]
  },
  {
   "cell_type": "markdown",
   "id": "5563f07a",
   "metadata": {},
   "source": [
    "---\n",
    "\n",
    "# 📢 Sistema de puntos 📢\n",
    "\n",
    "Resuelve el siguiente ejercicio (tiempo aproximado: 5 min):\n",
    "\n",
    "```\n",
    "Crea variables para representar a un alumno:\n",
    "\n",
    "nombre\n",
    "\n",
    "edad\n",
    "\n",
    "promedio\n",
    "\n",
    "si está inscrito (booleano)\n",
    "\n",
    "Manda a imprmir las variables.\n",
    "```\n",
    "\n",
    "Tómale foto o captura a tu código y mándalo al grupo de whats app 🥸\n",
    "\n",
    "---\n",
    "\n",
    "Continuando con la clase\n",
    "\n",
    "\n"
   ]
  },
  {
   "cell_type": "markdown",
   "id": "b597bde1",
   "metadata": {},
   "source": []
  }
 ],
 "metadata": {
  "kernelspec": {
   "display_name": "Python 3",
   "language": "python",
   "name": "python3"
  },
  "language_info": {
   "codemirror_mode": {
    "name": "ipython",
    "version": 3
   },
   "file_extension": ".py",
   "mimetype": "text/x-python",
   "name": "python",
   "nbconvert_exporter": "python",
   "pygments_lexer": "ipython3",
   "version": "3.12.1"
  }
 },
 "nbformat": 4,
 "nbformat_minor": 5
}
